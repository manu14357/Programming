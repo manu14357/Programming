{
  "nbformat": 4,
  "nbformat_minor": 0,
  "metadata": {
    "colab": {
      "provenance": [],
      "authorship_tag": "ABX9TyNTOyfeT5fq+0WhgtLl837g",
      "include_colab_link": true
    },
    "kernelspec": {
      "name": "python3",
      "display_name": "Python 3"
    },
    "language_info": {
      "name": "python"
    }
  },
  "cells": [
    {
      "cell_type": "markdown",
      "metadata": {
        "id": "view-in-github",
        "colab_type": "text"
      },
      "source": [
        "<a href=\"https://colab.research.google.com/github/manu14357/Programming/blob/main/Python_Programming_Basics.ipynb\" target=\"_parent\"><img src=\"https://colab.research.google.com/assets/colab-badge.svg\" alt=\"Open In Colab\"/></a>"
      ]
    },
    {
      "cell_type": "markdown",
      "source": [
        "**Welcome!**\n",
        "\n",
        "Welcome to the course on learning Python!\n",
        "\n",
        "What will you learn here?\n",
        "\n",
        "All the basic concepts of Python programming language like - Variables, Strings, Conditions, Lists, Loops, Functions etc\n",
        "By the end of this course, you will be able to write code in Python to solve logical real world problems.\n",
        "Let the fun begin!"
      ],
      "metadata": {
        "id": "hhEstIsJxuS3"
      }
    },
    {
      "cell_type": "markdown",
      "source": [
        "**Printing a number**\n",
        "\n",
        "We'll begin with the print statement, which is commonly the first thing you learn in most programming languages.\n",
        "\n",
        "The print statement in Python is used to display output on the screen. You can use it to print numbers, text, or the results of expressions."
      ],
      "metadata": {
        "id": "AqjMRuPpx0zy"
      }
    },
    {
      "cell_type": "code",
      "source": [
        "print(12)"
      ],
      "metadata": {
        "colab": {
          "base_uri": "https://localhost:8080/"
        },
        "id": "kUi-bO7hx_yH",
        "outputId": "8e2cef7d-8b60-4b3a-d922-875806c49218"
      },
      "execution_count": null,
      "outputs": [
        {
          "output_type": "stream",
          "name": "stdout",
          "text": [
            "12\n"
          ]
        }
      ]
    },
    {
      "cell_type": "markdown",
      "source": [
        "**Printing text**\n",
        "\n",
        "In the last problem, we saw how to print a number (using print).\n",
        "\n",
        "Now let's see how to output some text.\n",
        "To print text, there is only one difference. All textual content should start and end with either double quotes(\" \") or single quotes(' ')."
      ],
      "metadata": {
        "id": "wevzPtDIyNST"
      }
    },
    {
      "cell_type": "code",
      "source": [
        "print(\"I love You\")\n",
        "print('I love You')"
      ],
      "metadata": {
        "colab": {
          "base_uri": "https://localhost:8080/"
        },
        "id": "lgl7KVg4yoKm",
        "outputId": "cffdca8e-acfb-446e-a382-1d0fbef3ae73"
      },
      "execution_count": null,
      "outputs": [
        {
          "output_type": "stream",
          "name": "stdout",
          "text": [
            "I love You\n",
            "I love You\n"
          ]
        }
      ]
    },
    {
      "cell_type": "markdown",
      "source": [
        "**Arithmetic Operations**\n",
        "\n",
        "We can also perform mathematical operations using print."
      ],
      "metadata": {
        "id": "SASGfhXHy6-N"
      }
    },
    {
      "cell_type": "code",
      "source": [
        "print(2+4)\n",
        "print(\"2+4\")"
      ],
      "metadata": {
        "colab": {
          "base_uri": "https://localhost:8080/"
        },
        "id": "SR1FUUIuzWgd",
        "outputId": "28bef80a-c853-464b-cf21-c811cf478d80"
      },
      "execution_count": null,
      "outputs": [
        {
          "output_type": "stream",
          "name": "stdout",
          "text": [
            "6\n",
            "2+4\n"
          ]
        }
      ]
    },
    {
      "cell_type": "markdown",
      "source": [
        "Without quotes: The expression is evaluated, and the result is printed.\n",
        "\n",
        "With quotes: The expression is treated as a string and printed as it is."
      ],
      "metadata": {
        "id": "KQIaK6-3zY21"
      }
    },
    {
      "cell_type": "markdown",
      "source": [
        "**Multiple Outputs**\n",
        "\n",
        "You can add as many print statements as you want to your program. Each print statement outputs its content on a new line."
      ],
      "metadata": {
        "id": "1KYA59fx0CGs"
      }
    },
    {
      "cell_type": "code",
      "source": [
        "print(\"99\")\n",
        "print(100)"
      ],
      "metadata": {
        "colab": {
          "base_uri": "https://localhost:8080/"
        },
        "id": "f_t6KkCv0F4F",
        "outputId": "e9ba95b2-1b5b-4f9c-ca26-411cde6e716b"
      },
      "execution_count": null,
      "outputs": [
        {
          "output_type": "stream",
          "name": "stdout",
          "text": [
            "99\n",
            "100\n"
          ]
        }
      ]
    },
    {
      "cell_type": "markdown",
      "source": [
        "**Outputs on the same line**\n",
        "\n",
        "We can print multiple items by separating by commas. Python will automatically add a space between them."
      ],
      "metadata": {
        "id": "cp9jkqDc0Nk1"
      }
    },
    {
      "cell_type": "code",
      "source": [
        "print(1,      2, 3, 4)"
      ],
      "metadata": {
        "colab": {
          "base_uri": "https://localhost:8080/"
        },
        "id": "jvxkz3mw0PM4",
        "outputId": "b5e93379-a8e9-4c78-9bf0-8a36b6b6f6e7"
      },
      "execution_count": null,
      "outputs": [
        {
          "output_type": "stream",
          "name": "stdout",
          "text": [
            "1 2 3 4\n"
          ]
        }
      ]
    },
    {
      "cell_type": "markdown",
      "source": [
        "**Inserting text Between Outputs**\n",
        "\n",
        "Remember that to print multiple values on same line, we have to use comma inside print statement.\n",
        "\n",
        "We can also combine text and numbers in a single print statement by comma separating them."
      ],
      "metadata": {
        "id": "nBl-gryL04i1"
      }
    },
    {
      "cell_type": "code",
      "source": [
        "print(\"My favorite number is\", 10)"
      ],
      "metadata": {
        "id": "X6Halk-Y06JT"
      },
      "execution_count": null,
      "outputs": []
    },
    {
      "cell_type": "markdown",
      "source": [
        "**Variables in Python**\n",
        "\n",
        "A variable is like a labelled box where you can store data. Imagine you have a box labeled \"age\" and you put the number 25 in it. In Python, you would do this by writing:"
      ],
      "metadata": {
        "id": "QKHXrPfW1lUl"
      }
    },
    {
      "cell_type": "code",
      "source": [
        "manu = 25"
      ],
      "metadata": {
        "id": "5Q_8rQRQ1omp"
      },
      "execution_count": null,
      "outputs": []
    },
    {
      "cell_type": "markdown",
      "source": [
        "When you write this, python creates a box(variable) with name age and stores 25 in that box(variable).\n",
        "\n",
        "This process of creating a variable to store a value is called Declaration and\n",
        "\n",
        "The process of setting its value for the first time is called Initialization."
      ],
      "metadata": {
        "id": "0PkFP_fq1qKD"
      }
    },
    {
      "cell_type": "code",
      "source": [
        "print(age)"
      ],
      "metadata": {
        "id": "q6bfGqlg12EV"
      },
      "execution_count": null,
      "outputs": []
    },
    {
      "cell_type": "markdown",
      "source": [
        "**Declaring a variable**\n",
        "\n",
        "There are many different types of variables in Python. The type of a variable is defined by the kind of value it stores."
      ],
      "metadata": {
        "id": "Ni3qWBo_2HIi"
      }
    },
    {
      "cell_type": "code",
      "source": [
        "# Numeric variables - hold integers and decimal values\n",
        "age = 69\n",
        "temperature = 98.6\n",
        "\n",
        "# String variables - Stores a sequence of characters enclosed in single or double quotes\n",
        "name = \"Manu\"\n",
        "message = 'Hello, world!'\n",
        "\n",
        "# Boolean variables - only hold the values true and false\n",
        "is_true = True\n",
        "is_false = False\n",
        "\n",
        "# List variables - Stores a collection of items, which can be of different types.\n",
        "numbers = [1, 2, 3, 4, 5]\n",
        "fruits = ['apple', 'banana', 'orange']\n",
        "\n",
        "# Tuple variables\n",
        "coordinates = (10, 20)\n",
        "\n",
        "# Dictionary variables\n",
        "person = {'name': 'Alice', 'age': 30}\n",
        "\n",
        "# Set variables\n",
        "unique_numbers = {1, 2, 3}\n",
        "\n",
        "# None variable\n",
        "empty_value = None"
      ],
      "metadata": {
        "id": "DnDMFBIm2JCe"
      },
      "execution_count": null,
      "outputs": []
    },
    {
      "cell_type": "markdown",
      "source": [
        "**Properties of Variables**\n",
        "\n",
        "We learned that variable is a labelled box which can store many different types of values. You can also change the value of a variable in your code."
      ],
      "metadata": {
        "id": "PF_k3NqY2d-I"
      }
    },
    {
      "cell_type": "code",
      "source": [
        "Age = 24\n",
        "age = 25\n",
        "print(age)\n",
        "print(Age)\n",
        "\n",
        "# Update age\n",
        "age = 26\n",
        "print(age)"
      ],
      "metadata": {
        "colab": {
          "base_uri": "https://localhost:8080/"
        },
        "id": "6ECPyZFm2i6U",
        "outputId": "e1c572a4-9713-46d0-c24a-b870039bb2a4"
      },
      "execution_count": null,
      "outputs": [
        {
          "output_type": "stream",
          "name": "stdout",
          "text": [
            "25\n",
            "24\n",
            "26\n"
          ]
        }
      ]
    },
    {
      "cell_type": "markdown",
      "source": [
        "**Rules for Python variable names:**\n",
        "\n",
        "A variable name can only contain alphabets, numbers\n",
        "and underscores (ie. A-Z, a-z, 0-9, and _).\n",
        "\n",
        "A variable name cannot start with a number.\n",
        "\n",
        "A variable name cannot have spaces in between.\n",
        "\n",
        "Variable names are case-sensitive (age, Age and AGE are three different variables)."
      ],
      "metadata": {
        "id": "Gbz0Ilw22lHY"
      }
    },
    {
      "cell_type": "markdown",
      "source": [
        "**Float datatype**\n",
        "\n",
        "In Python, you don't need to explicitly specify the type of a variable during declaration. The type is inferred based on the kind of value assigned to the variable.\n",
        "\n",
        "For example if you put decimal values in a variable, the type of variable becomes float."
      ],
      "metadata": {
        "id": "u0YHcO6o3b7n"
      }
    },
    {
      "cell_type": "code",
      "source": [
        "pi = 3.14"
      ],
      "metadata": {
        "id": "PBcdPGCd3eFa"
      },
      "execution_count": null,
      "outputs": []
    },
    {
      "cell_type": "markdown",
      "source": [
        "**String Datatype**\n",
        "\n",
        "The string type is used to store a sequence of characters, i.e. text.\n",
        "String values can be surrounded by either double quotes or single quotes.\n",
        "Python does not care about whether you use single or double quotes.\n",
        "\n",
        "For example, both the below codes do the same thing:"
      ],
      "metadata": {
        "id": "Y7rmwS8v3ypv"
      }
    },
    {
      "cell_type": "code",
      "source": [
        "sentence1 = \"I like you\"\n",
        "sentence2 = 'I like you'"
      ],
      "metadata": {
        "id": "iowK-MS530y5"
      },
      "execution_count": null,
      "outputs": []
    },
    {
      "cell_type": "markdown",
      "source": [
        "**Bool Datatype**\n",
        "\n",
        "In programming, you often need to make decisions based on whether something is True or False. For this, we have a data type representing just one of these two values - True and False.\n",
        "\n",
        "The datatype is called boolean datatype."
      ],
      "metadata": {
        "id": "bb1r7XWV4pqn"
      }
    },
    {
      "cell_type": "code",
      "source": [
        "studying = True\n",
        "print(studying)"
      ],
      "metadata": {
        "id": "w4t2yg8v4sYR",
        "colab": {
          "base_uri": "https://localhost:8080/"
        },
        "outputId": "4d85bc78-fae6-4521-8c2a-1d43974a20e5"
      },
      "execution_count": null,
      "outputs": [
        {
          "output_type": "stream",
          "name": "stdout",
          "text": [
            "True\n"
          ]
        }
      ]
    },
    {
      "cell_type": "markdown",
      "source": [
        "**Type Conversion**\n",
        "\n",
        "In the previous problems we saw different types of datatypes. We can also convert one data type to another as per our use. This is called Type Conversion.\n",
        "\n",
        "There are two types of Type Conversion."
      ],
      "metadata": {
        "id": "avWwmRwW9e2x"
      }
    },
    {
      "cell_type": "markdown",
      "source": [
        "**Implicit Type Conversion**\n",
        "\n",
        "Here, Python automatically converts a variable from one data type to another without the user needing to tell it to do so."
      ],
      "metadata": {
        "id": "_hG23BUa9mXI"
      }
    },
    {
      "cell_type": "code",
      "source": [
        "x = 7\n",
        "x = x/2\n",
        "print(x)"
      ],
      "metadata": {
        "colab": {
          "base_uri": "https://localhost:8080/"
        },
        "id": "hLrVkSRy9sHH",
        "outputId": "3123b990-9869-404b-b0f4-4b83a72a1a6a"
      },
      "execution_count": null,
      "outputs": [
        {
          "output_type": "stream",
          "name": "stdout",
          "text": [
            "<class 'float'>\n"
          ]
        }
      ]
    },
    {
      "cell_type": "markdown",
      "source": [
        "Here’s what happens:\n",
        "\n",
        "Variable x is initially an integer with a value of 7\n",
        "\n",
        "When x is divided by 2, the result 3.5 is a float (decimal number)\n",
        "\n",
        "Python automatically converts x from an integer to a float"
      ],
      "metadata": {
        "id": "x8P8l70-9uZo"
      }
    },
    {
      "cell_type": "markdown",
      "source": [
        "**Explicit Type Conversion**\n",
        "\n",
        "Here, we manually convert a variable from one data type to another as per our use using Python’s built-in functions"
      ],
      "metadata": {
        "id": "zkNFgW0S9z2D"
      }
    },
    {
      "cell_type": "code",
      "source": [
        "num = '12'\n",
        "num = int(num)\n",
        "num = num + num"
      ],
      "metadata": {
        "id": "tUJU6Vom96Ub"
      },
      "execution_count": null,
      "outputs": []
    },
    {
      "cell_type": "markdown",
      "source": [
        "Here’s what happens:\n",
        "\n",
        "Initially, num is a string with the value '12'.\n",
        "\n",
        "We use the int() function to convert num from a string to an integer.\n",
        "\n",
        "After conversion, num becomes 12 (an integer), and we can perform arithmetic operations on it. If we hadn’t converted num from a string to an integer, the operation num + num would have resulted in concatenation, producing '1212' instead of 24."
      ],
      "metadata": {
        "id": "_VZ7Bx0V97_f"
      }
    },
    {
      "cell_type": "code",
      "source": [
        "a = 3\n",
        "b = 5.8\n",
        "c = 'hello'\n",
        "d = True\n",
        "# Print the types of these four variables\n",
        "print(type(a))\n",
        "print(type(b))\n",
        "print(type(c))\n",
        "print(type(d))"
      ],
      "metadata": {
        "colab": {
          "base_uri": "https://localhost:8080/"
        },
        "id": "LPQaR9kh-rTt",
        "outputId": "3b0b16fe-ed58-46b6-aa97-9f9e439c540a"
      },
      "execution_count": null,
      "outputs": [
        {
          "output_type": "stream",
          "name": "stdout",
          "text": [
            "<class 'int'>\n",
            "<class 'float'>\n",
            "<class 'str'>\n",
            "<class 'bool'>\n"
          ]
        }
      ]
    },
    {
      "cell_type": "markdown",
      "source": [
        "**Arithmetic Operations**\n",
        "\n",
        "In Python, you can perform various basic mathematical operations with numbers."
      ],
      "metadata": {
        "id": "kyNQ-_Gh_JRL"
      }
    },
    {
      "cell_type": "markdown",
      "source": [
        "1. Addition (+)\n",
        "\n",
        "You can use the plus sign (+) to add two numbers."
      ],
      "metadata": {
        "id": "kvf9mjCm_QMa"
      }
    },
    {
      "cell_type": "code",
      "source": [
        "a = 6\n",
        "b = 3\n",
        "print(a + b)"
      ],
      "metadata": {
        "colab": {
          "base_uri": "https://localhost:8080/"
        },
        "id": "rsgClJVK_TbU",
        "outputId": "6a3e0fe1-890b-4c32-9110-818184da1911"
      },
      "execution_count": null,
      "outputs": [
        {
          "output_type": "stream",
          "name": "stdout",
          "text": [
            "9\n"
          ]
        }
      ]
    },
    {
      "cell_type": "markdown",
      "source": [
        "2. Subtraction (-)\n",
        "\n",
        "You can use the minus sign (-) to subtract one number from another."
      ],
      "metadata": {
        "id": "aKi8A12J_U6m"
      }
    },
    {
      "cell_type": "code",
      "source": [
        "print(a - b)"
      ],
      "metadata": {
        "colab": {
          "base_uri": "https://localhost:8080/"
        },
        "id": "FKaQX6Rk_W3R",
        "outputId": "b49640f6-0e8b-4eb2-b907-275a22100d4e"
      },
      "execution_count": null,
      "outputs": [
        {
          "output_type": "stream",
          "name": "stdout",
          "text": [
            "3\n"
          ]
        }
      ]
    },
    {
      "cell_type": "markdown",
      "source": [
        "3. Multiplication (*)\n",
        "\n",
        "You can use the asterisk (*) to multiply two numbers."
      ],
      "metadata": {
        "id": "GaaJfA-G_aNv"
      }
    },
    {
      "cell_type": "code",
      "source": [
        "print(a * b)"
      ],
      "metadata": {
        "colab": {
          "base_uri": "https://localhost:8080/"
        },
        "id": "6j_vtxQQ_ckb",
        "outputId": "2d04c85f-4c1a-49d3-b124-d67221c8e4b7"
      },
      "execution_count": null,
      "outputs": [
        {
          "output_type": "stream",
          "name": "stdout",
          "text": [
            "18\n"
          ]
        }
      ]
    },
    {
      "cell_type": "markdown",
      "source": [
        "4. Division (/)\n",
        "\n",
        "You can use the forward slash (/) to divide one number by another. This will give you a float (decimal number) as a result."
      ],
      "metadata": {
        "id": "33kYPRyd_h6z"
      }
    },
    {
      "cell_type": "code",
      "source": [
        "print(a / b)"
      ],
      "metadata": {
        "colab": {
          "base_uri": "https://localhost:8080/"
        },
        "id": "lBq6W07r_keQ",
        "outputId": "49f527a1-ad83-4505-a4c3-b6bba8fce605"
      },
      "execution_count": null,
      "outputs": [
        {
          "output_type": "stream",
          "name": "stdout",
          "text": [
            "2.0\n"
          ]
        }
      ]
    },
    {
      "cell_type": "markdown",
      "source": [
        "5. Integer Division (//)\n",
        "\n",
        "You can use the double forward slash (//) to perform integer division. This will divide the numbers and return the whole number part of the result, discarding the remainder."
      ],
      "metadata": {
        "id": "RAQSisvG_mXu"
      }
    },
    {
      "cell_type": "code",
      "source": [
        "result = 10 // 3\n",
        "print(result)"
      ],
      "metadata": {
        "colab": {
          "base_uri": "https://localhost:8080/"
        },
        "id": "1QwSET7y_p6t",
        "outputId": "6ee1e1f6-4eee-47f1-a188-2de85649cb6b"
      },
      "execution_count": null,
      "outputs": [
        {
          "output_type": "stream",
          "name": "stdout",
          "text": [
            "3\n"
          ]
        }
      ]
    },
    {
      "cell_type": "markdown",
      "source": [
        "6. Modulo (%)\n",
        "\n",
        "You can use the percent symbol (%), known as the modulo operator, to get the remainder of a division."
      ],
      "metadata": {
        "id": "pN_1A-lM_sLi"
      }
    },
    {
      "cell_type": "code",
      "source": [
        "print(a % b)"
      ],
      "metadata": {
        "colab": {
          "base_uri": "https://localhost:8080/"
        },
        "id": "8N9NXEB0_tbm",
        "outputId": "bfcd9739-ca2f-44b1-a9a4-6038be7813c3"
      },
      "execution_count": null,
      "outputs": [
        {
          "output_type": "stream",
          "name": "stdout",
          "text": [
            "0\n"
          ]
        }
      ]
    },
    {
      "cell_type": "markdown",
      "source": [
        "7. Exponentiation (**)\n",
        "\n",
        "You can use the double asterisk (**) to raise a number to the power of another number."
      ],
      "metadata": {
        "id": "3eI0Ts7h_whv"
      }
    },
    {
      "cell_type": "code",
      "source": [
        "print(a ** b)"
      ],
      "metadata": {
        "id": "KzNwSbUF_yNQ"
      },
      "execution_count": null,
      "outputs": []
    },
    {
      "cell_type": "code",
      "source": [
        "x = 5\n",
        "y = 2\n",
        "\n",
        "\n",
        "# Calculate the sum of x and y\n",
        "sum_of_xy = x+y\n",
        "# Calculate the difference of x and y\n",
        "difference_of_xy = x-y\n",
        "# Calculate the quotient of x and y\n",
        "quotient_of_xy = x/y\n",
        "# Calculate the floor of quotient of x and y\n",
        "floor_quotient_of_xy = x//y\n",
        "# Calculate the product of x and y\n",
        "product_of_xy = x*y\n",
        "# Calculate the exponent of x and y\n",
        "x_to_power_of_y = x**y"
      ],
      "metadata": {
        "id": "b2TqAFjFAmAy"
      },
      "execution_count": null,
      "outputs": []
    },
    {
      "cell_type": "markdown",
      "source": [
        "Assignment Operators\n",
        "\n",
        "In Python, assignment operators are used to set or update the value of a variable. There are basic assignment operators and compound assignment operators."
      ],
      "metadata": {
        "id": "jSJHCNErA3qb"
      }
    },
    {
      "cell_type": "markdown",
      "source": [
        "Basic Assignment Operator\n",
        "\n",
        "The basic assignment operator is the = sign. It assigns the value on its right to the variable on its left."
      ],
      "metadata": {
        "id": "beNcFy6cA7po"
      }
    },
    {
      "cell_type": "code",
      "source": [
        "length = 15"
      ],
      "metadata": {
        "id": "GY4edvHKA9TB"
      },
      "execution_count": null,
      "outputs": []
    },
    {
      "cell_type": "markdown",
      "source": [
        "In this example, the = operator sets the value of length to 15."
      ],
      "metadata": {
        "id": "NgH1j5iUA_AW"
      }
    },
    {
      "cell_type": "markdown",
      "source": [
        "Compound Assignment Operators\n",
        "\n",
        "Compound Assignment Operators combine arithmetic operations with assignment. They are just a shorthand way of performing operations on a variable and assigning the result back to the variable.\n",
        "\n",
        "Without using the compound assignment operators we write -"
      ],
      "metadata": {
        "id": "ynIZqDrzBAqo"
      }
    },
    {
      "cell_type": "code",
      "source": [
        "length = 15\n",
        "length = length + 5"
      ],
      "metadata": {
        "id": "C3lVxPGLBEPr"
      },
      "execution_count": null,
      "outputs": []
    },
    {
      "cell_type": "markdown",
      "source": [
        "The same thing using Compound Assignment Operator would be written as-"
      ],
      "metadata": {
        "id": "mpGPjwysBNQV"
      }
    },
    {
      "cell_type": "code",
      "source": [
        "length = 15\n",
        "length += 5  # Shorthand for length = length + 5\n",
        "print(length)  # Output: 20"
      ],
      "metadata": {
        "id": "schSlY79BOCI"
      },
      "execution_count": null,
      "outputs": []
    },
    {
      "cell_type": "markdown",
      "source": [
        "We can use any other operator in the same way:\n",
        "- x -= 5  (Subtracts 5 from `x` and assigns the result back to `x`)\n",
        "- x *= 3  (Multiplies `x` by 3 and assigns the result back to `x`)\n",
        "- x /= 3  (Divides `x` by 3 and assigns the result back to `x`)*\n",
        "- x %= 3  (Finds the remainder when `x` is divided by 3 and assigns the result back to `x`)"
      ],
      "metadata": {
        "id": "AMnSZo1PBP3K"
      }
    },
    {
      "cell_type": "code",
      "source": [
        "length = 15\n",
        "length = length +  5\n",
        "\n",
        "# Add 5 to length. length becomes 15+5 = 20\n",
        "length += 5\n",
        "# Subtract 5 to length. length becomes 20-5 = 15\n",
        "length -= 5\n",
        "# Multiply 3 to length. length becomes 15*3 = 45\n",
        "length *= 3\n",
        "# Divide length by 3. length becomes 45/3 = 15\n",
        "length /= 3\n",
        "# length is raised to the power of 3. length becomes 15**3 = 3375\n",
        "length **= 3\n",
        "# Divide length by 10 and store the floor value.\n",
        "# length becomes 3375//10 = 337\n",
        "length //= 10"
      ],
      "metadata": {
        "id": "VL0nWB8-B-3n"
      },
      "execution_count": null,
      "outputs": []
    },
    {
      "cell_type": "markdown",
      "source": [
        "Relational Operators\n",
        "\n",
        "Relational operators help you compare two values or variables. They give you a result of either True or False based on the comparison."
      ],
      "metadata": {
        "id": "kGmpZ7UhCQ4z"
      }
    },
    {
      "cell_type": "markdown",
      "source": [
        "Basic Comparison"
      ],
      "metadata": {
        "id": "EMeQVO-TCXk6"
      }
    },
    {
      "cell_type": "code",
      "source": [
        "height1 = 12\n",
        "height2 = 14\n",
        "print(height1 < height2)"
      ],
      "metadata": {
        "id": "cFO5kAAlCZjI"
      },
      "execution_count": null,
      "outputs": []
    },
    {
      "cell_type": "markdown",
      "source": [
        "Other Relational Operators\n",
        "\n",
        "Here are some more examples of relational operators:\n",
        "\n",
        "- a > b   (Checks if `a` is greater than `b`)\n",
        "- a == b  (Checks if `a` is equal to `b`)\n",
        "- a != b  (Checks if `a` is not equal to `b`)\n",
        "- a >= b  (Checks if `a` is greater than or equal to `b`)\n",
        "- a <= b  (Checks if `a` is less than or equal to `b`)"
      ],
      "metadata": {
        "id": "sHtCEbAoChji"
      }
    },
    {
      "cell_type": "code",
      "source": [
        "x = 5\n",
        "y = 2\n",
        "\n",
        "# Store the result of the condition if - x is less than y\n",
        "less = x<y\n",
        "\n",
        "# Store the result of the condition if - x is greater than y\n",
        "greater = x>y\n",
        "\n",
        "# Store the result of the condition if - x is less than equal to y\n",
        "less_than_equal_to = x<=y\n",
        "\n",
        "# Store the result of the condition if - x is greater than equal to y\n",
        "greater_than_equal_to = x>=y\n",
        "\n",
        "# Store the result of the condition if - x not equal to y\n",
        "not_equal = x!=y\n",
        "\n",
        "# Store the result of the condition if - x is equal to y\n",
        "equal = x==y\n"
      ],
      "metadata": {
        "id": "6byfwunHCv1O"
      },
      "execution_count": null,
      "outputs": []
    },
    {
      "cell_type": "markdown",
      "source": [
        "Logical Operators\n",
        "\n",
        "Logical operators help you combine multiple conditions to check if they are True or False. They are often used to make decisions based on multiple criteria."
      ],
      "metadata": {
        "id": "gKWOj-lXDDy7"
      }
    },
    {
      "cell_type": "markdown",
      "source": [
        "Basic Logical Operations\n",
        "\n",
        "Logical AND\n",
        "\n",
        "LOgical OR\n",
        "\n",
        "Logical NOT\n",
        "\n"
      ],
      "metadata": {
        "id": "qDq0_kHODMKC"
      }
    },
    {
      "cell_type": "code",
      "source": [
        "# The AND operator returns True only if both conditions are True.\n",
        "\n",
        "a = 7\n",
        "condition = a > 5 and a < 10  # Only True if a is greater than 5 AND less than 10\n",
        "print(condition)  # Output: True"
      ],
      "metadata": {
        "colab": {
          "base_uri": "https://localhost:8080/"
        },
        "id": "Ow2yDsebDYSv",
        "outputId": "1233d911-8b49-425e-86b2-b7e43418b61c"
      },
      "execution_count": null,
      "outputs": [
        {
          "output_type": "stream",
          "name": "stdout",
          "text": [
            "True\n"
          ]
        }
      ]
    },
    {
      "cell_type": "code",
      "source": [
        "# The OR operator returns True if at least one of the conditions is True.\n",
        "\n",
        "a = 7\n",
        "condition = a > 10 or a < 5  # True if a is greater than 10 OR less than 5\n",
        "print(condition)  # Output: False"
      ],
      "metadata": {
        "colab": {
          "base_uri": "https://localhost:8080/"
        },
        "id": "W0hJ3vfgDpJ3",
        "outputId": "6113f928-40cb-45f0-e2df-62aac10af27f"
      },
      "execution_count": null,
      "outputs": [
        {
          "output_type": "stream",
          "name": "stdout",
          "text": [
            "False\n"
          ]
        }
      ]
    },
    {
      "cell_type": "code",
      "source": [
        "# The NOT operator reverses the result of the condition. If the condition is True, `not` makes it False. If the condition is False, `not` makes it True.\n",
        "\n",
        "a = 5\n",
        "condition = not(a > 5)  # Reverses the result of a > 5\n",
        "print(condition)  # Output: False"
      ],
      "metadata": {
        "colab": {
          "base_uri": "https://localhost:8080/"
        },
        "id": "ZXqmkr-ZDxNC",
        "outputId": "6770749c-ae3d-4e71-bcfa-063eb3a01a4c"
      },
      "execution_count": null,
      "outputs": [
        {
          "output_type": "stream",
          "name": "stdout",
          "text": [
            "True\n"
          ]
        }
      ]
    },
    {
      "cell_type": "code",
      "source": [
        "a=18\n",
        "c= a>18 or a>=18\n",
        "print(c)"
      ],
      "metadata": {
        "colab": {
          "base_uri": "https://localhost:8080/"
        },
        "id": "C6igTOCRFFji",
        "outputId": "9450557e-8a21-4d54-9560-4ebb9d21a105"
      },
      "execution_count": null,
      "outputs": [
        {
          "output_type": "stream",
          "name": "stdout",
          "text": [
            "True\n"
          ]
        }
      ]
    },
    {
      "cell_type": "markdown",
      "source": [
        "Precedence - It tells the priority of operations.\n",
        "\n",
        "Associativity - It tells what order the operations with the same priority will be performed in."
      ],
      "metadata": {
        "id": "hKq0sgX-H257"
      }
    },
    {
      "cell_type": "markdown",
      "source": [
        "Operator precedence\n",
        "\n",
        "Operator precedence determines the order in which different operators are evaluated in an expression.\n",
        "Operators with higher precedence are evaluated before those with lower precedence.\n",
        "This concept is similar to the rules of arithmetic, where multiplication and division takes precedence over addition and subtraction.\n",
        "\n",
        "Here's the order of operator precedence in Python from highest to lowest:\n",
        "\n",
        "Parentheses: ()\n",
        "\n",
        "Exponentiation: **\n",
        "\n",
        "Unary operators: ~\n",
        "\n",
        "Multiplication, division, floor division, and modulus operators: *, /, //, %\n",
        "\n",
        "Addition and subtraction operators: +, -\n",
        "\n",
        "Relational operators: <, >, <=, >=\n",
        "\n",
        "Equality operators: ==, !=\n",
        "\n",
        "Logical AND operator: and\n",
        "\n",
        "Logical OR operator: or\n",
        "\n",
        "Assignment operators: =, +=, -= ... and so on"
      ],
      "metadata": {
        "id": "b402kFzOIEnA"
      }
    },
    {
      "cell_type": "code",
      "source": [
        "x = 5\n",
        "y = 3\n",
        "z = 2\n",
        "result = 10 / 2 *3\n",
        "print(result)"
      ],
      "metadata": {
        "colab": {
          "base_uri": "https://localhost:8080/"
        },
        "id": "XTuwYqC4IedL",
        "outputId": "0bd3edc9-9e8d-48c6-aa6d-c8acc76f2c68"
      },
      "execution_count": null,
      "outputs": [
        {
          "output_type": "stream",
          "name": "stdout",
          "text": [
            "15.0\n"
          ]
        }
      ]
    },
    {
      "cell_type": "markdown",
      "source": [
        "**Creating a String**\n",
        "\n",
        "Strings are used for storing text.\n",
        "\n",
        "A string variable contains a collection of characters surrounded by double quotes."
      ],
      "metadata": {
        "id": "FIrNWE3DLDZ0"
      }
    },
    {
      "cell_type": "code",
      "source": [
        " name = \"Chef\""
      ],
      "metadata": {
        "id": "xSB6TePALP9i"
      },
      "execution_count": null,
      "outputs": []
    },
    {
      "cell_type": "markdown",
      "source": [
        "**String Operations**\n",
        "\n",
        "we will understand two important operations Concatenation and Repetition.\n",
        "\n"
      ],
      "metadata": {
        "id": "U6D5E5LNL1VW"
      }
    },
    {
      "cell_type": "markdown",
      "source": [
        "**Concatenation**\n",
        "\n",
        "The + sign can be used between strings to add them together to make a new string.\n",
        "\n",
        "This is called concatenation."
      ],
      "metadata": {
        "id": "WjC6AVdzMLdV"
      }
    },
    {
      "cell_type": "code",
      "source": [
        "#String Concatenation\n",
        "\n",
        "x = \"Good\"\n",
        "y = \"Work\"\n",
        "print(x + y)\n",
        "\n",
        "x = \"Good\"\n",
        "y = \"Work\"\n",
        "print(x + \" \" + y)"
      ],
      "metadata": {
        "colab": {
          "base_uri": "https://localhost:8080/"
        },
        "id": "E-CXKWubL_0Q",
        "outputId": "ce0aa151-b478-4258-c522-e998569d8f1b"
      },
      "execution_count": null,
      "outputs": [
        {
          "output_type": "stream",
          "name": "stdout",
          "text": [
            "GoodWork\n",
            "Good Work\n"
          ]
        }
      ]
    },
    {
      "cell_type": "markdown",
      "source": [
        "String repetition\n",
        "\n",
        "In Python, you can multiply strings to create a new string that repeats the original string a certain number of times. This technique is known as string repetition or string replication.\n",
        "\n",
        "The multiplication operator (*) is used to repeat a string a specified number of times."
      ],
      "metadata": {
        "id": "rwYDVX3qNGrQ"
      }
    },
    {
      "cell_type": "code",
      "source": [
        "string = \"hello \"\n",
        "result = string * 3\n",
        "print(result)"
      ],
      "metadata": {
        "colab": {
          "base_uri": "https://localhost:8080/"
        },
        "id": "8b_V7TxbNKc5",
        "outputId": "c5bdd8de-0cba-40f4-90ac-00e4a6acf3f5"
      },
      "execution_count": null,
      "outputs": [
        {
          "output_type": "stream",
          "name": "stdout",
          "text": [
            "hello hello hello \n"
          ]
        }
      ]
    },
    {
      "cell_type": "markdown",
      "source": [
        "Strings and Integers\n",
        "\n",
        "Python uses the + sign for both addition and concatenation.\n",
        "\n",
        "Numbers are added.\n",
        "\n",
        "Strings are concatenated.\n",
        "\n",
        "We cannot mix the two"
      ],
      "metadata": {
        "id": "qP0PMZXLNboH"
      }
    },
    {
      "cell_type": "code",
      "source": [
        "string1 = \"25\"\n",
        "string2 = 69\n",
        "\n",
        "print(string1 + string2)"
      ],
      "metadata": {
        "colab": {
          "base_uri": "https://localhost:8080/",
          "height": 182
        },
        "id": "dxPhHqg-NhNC",
        "outputId": "aaaffdd1-3945-4b88-de1f-cb66b279f0a8"
      },
      "execution_count": null,
      "outputs": [
        {
          "output_type": "error",
          "ename": "TypeError",
          "evalue": "can only concatenate str (not \"int\") to str",
          "traceback": [
            "\u001b[0;31m---------------------------------------------------------------------------\u001b[0m",
            "\u001b[0;31mTypeError\u001b[0m                                 Traceback (most recent call last)",
            "\u001b[0;32m<ipython-input-43-470118f19e09>\u001b[0m in \u001b[0;36m<cell line: 4>\u001b[0;34m()\u001b[0m\n\u001b[1;32m      2\u001b[0m \u001b[0mstring2\u001b[0m \u001b[0;34m=\u001b[0m \u001b[0;36m69\u001b[0m\u001b[0;34m\u001b[0m\u001b[0;34m\u001b[0m\u001b[0m\n\u001b[1;32m      3\u001b[0m \u001b[0;34m\u001b[0m\u001b[0m\n\u001b[0;32m----> 4\u001b[0;31m \u001b[0mprint\u001b[0m\u001b[0;34m(\u001b[0m\u001b[0mstring1\u001b[0m \u001b[0;34m+\u001b[0m \u001b[0mstring2\u001b[0m\u001b[0;34m)\u001b[0m\u001b[0;34m\u001b[0m\u001b[0;34m\u001b[0m\u001b[0m\n\u001b[0m",
            "\u001b[0;31mTypeError\u001b[0m: can only concatenate str (not \"int\") to str"
          ]
        }
      ]
    },
    {
      "cell_type": "markdown",
      "source": [
        "String length\n",
        "\n",
        "We can use the len() function to get the length of a string."
      ],
      "metadata": {
        "id": "PcMe2ayONq0I"
      }
    },
    {
      "cell_type": "code",
      "source": [
        "greeting = \"he\"\n",
        "print(len(greeting))\n"
      ],
      "metadata": {
        "colab": {
          "base_uri": "https://localhost:8080/"
        },
        "id": "_Nr0yOxgNtxz",
        "outputId": "d32325a3-aaeb-42b3-854c-2b66ee53401b"
      },
      "execution_count": null,
      "outputs": [
        {
          "output_type": "stream",
          "name": "stdout",
          "text": [
            "2\n"
          ]
        }
      ]
    },
    {
      "cell_type": "markdown",
      "source": [
        "Lower and Upper case\n",
        "\n",
        "We have other helper functions to change a string to either lowercase or uppercase.\n",
        "\n",
        "lower(): This function converts all characters in the string to lowercase.\n",
        "\n",
        "upper(): This function converts all characters in the string to uppercase."
      ],
      "metadata": {
        "id": "S4B1SCi_OIIf"
      }
    },
    {
      "cell_type": "code",
      "source": [
        "name = 'manu'\n",
        "lowercase_name = name.lower()\n",
        "uppercase_name = name.upper()\n",
        "print(lowercase_name)\n",
        "print(uppercase_name)"
      ],
      "metadata": {
        "colab": {
          "base_uri": "https://localhost:8080/"
        },
        "id": "d4rLa75zOMp7",
        "outputId": "760f8107-e28e-4510-88f6-8df9906a2bba"
      },
      "execution_count": null,
      "outputs": [
        {
          "output_type": "stream",
          "name": "stdout",
          "text": [
            "manu\n",
            "MANU\n"
          ]
        }
      ]
    },
    {
      "cell_type": "code",
      "source": [
        "string1 = \"12345\"\n",
        "print(string1[1])"
      ],
      "metadata": {
        "colab": {
          "base_uri": "https://localhost:8080/"
        },
        "id": "u4Ipbha_OlcS",
        "outputId": "c86d80ce-809e-43ad-984a-3e4bbc73f79d"
      },
      "execution_count": null,
      "outputs": [
        {
          "output_type": "stream",
          "name": "stdout",
          "text": [
            "2\n"
          ]
        }
      ]
    },
    {
      "cell_type": "markdown",
      "source": [
        "**Outputting Characters from a String**\n",
        "\n",
        "** Indexing**\n",
        "\n",
        "Indexing allows you to access individual characters in a string using their position.\n",
        "\n",
        "The position is known as the index, and Python supports two kinds of indexing: positive and negative indexing.\n",
        "\n",
        "Positive Indexing: Starts from the beginning of the string. The first character is at index 0, the second is at index 1, and so on."
      ],
      "metadata": {
        "id": "wi-wksOfP4vg"
      }
    },
    {
      "cell_type": "code",
      "source": [
        "s = \"manohar\"\n",
        "print(s[2])\n",
        "print(s[0])"
      ],
      "metadata": {
        "colab": {
          "base_uri": "https://localhost:8080/"
        },
        "id": "ubTfprE4QJ07",
        "outputId": "88e9299c-6dbf-4576-e1a9-64e6f786406b"
      },
      "execution_count": null,
      "outputs": [
        {
          "output_type": "stream",
          "name": "stdout",
          "text": [
            "n\n",
            "m\n"
          ]
        }
      ]
    },
    {
      "cell_type": "markdown",
      "source": [
        "Negative Indexing: Starts from the end of the string. The last character is at index '-1', the second to last is at index '-2', and so on."
      ],
      "metadata": {
        "id": "8YGj00lEQXTN"
      }
    },
    {
      "cell_type": "code",
      "source": [
        "s = \"manohar\"\n",
        "print(s[-2])\n",
        "print(s[-0])"
      ],
      "metadata": {
        "colab": {
          "base_uri": "https://localhost:8080/"
        },
        "id": "4G8hzlIuQZk-",
        "outputId": "26440aee-00f3-4553-bb36-18326afa982c"
      },
      "execution_count": null,
      "outputs": [
        {
          "output_type": "stream",
          "name": "stdout",
          "text": [
            "a\n",
            "m\n"
          ]
        }
      ]
    },
    {
      "cell_type": "markdown",
      "source": [
        "Changing Characters in a String\n",
        "\n",
        "In Python, strings are immutable, which means you cannot directly update or change a character in a string."
      ],
      "metadata": {
        "id": "VIH2tvLIQn3b"
      }
    },
    {
      "cell_type": "code",
      "source": [
        "m = \"mono\"\n",
        "m23= m.replace('o','u', 3)\n",
        "print(m23)"
      ],
      "metadata": {
        "colab": {
          "base_uri": "https://localhost:8080/"
        },
        "id": "fJJuCuDWQpeu",
        "outputId": "c03cb87d-9205-489e-a32e-95174cfcaee3"
      },
      "execution_count": null,
      "outputs": [
        {
          "output_type": "stream",
          "name": "stdout",
          "text": [
            "munu\n"
          ]
        }
      ]
    },
    {
      "cell_type": "markdown",
      "source": [
        "**String slicing**\n",
        "\n",
        "Slicing is a way to extract a part (substring) from a string."
      ],
      "metadata": {
        "id": "NZD9m_sXUO6a"
      }
    },
    {
      "cell_type": "code",
      "source": [
        "substring = string[start:end]"
      ],
      "metadata": {
        "id": "ff_3Si-qUx-h"
      },
      "execution_count": null,
      "outputs": []
    },
    {
      "cell_type": "code",
      "source": [
        "str = 'Interesting'\n",
        "substring = str[0:4]\n",
        "print(substring)"
      ],
      "metadata": {
        "colab": {
          "base_uri": "https://localhost:8080/"
        },
        "id": "QYT8pewgU30-",
        "outputId": "5937d33b-3949-447e-eaa8-c37ade2f1794"
      },
      "execution_count": null,
      "outputs": [
        {
          "output_type": "stream",
          "name": "stdout",
          "text": [
            "Inte\n"
          ]
        }
      ]
    },
    {
      "cell_type": "code",
      "source": [
        "s = \"abcdefghij\"\n",
        "print(s[2:-2])"
      ],
      "metadata": {
        "colab": {
          "base_uri": "https://localhost:8080/"
        },
        "id": "cum38fAOVhQi",
        "outputId": "523d77c7-3655-429c-9290-a76b0bb003cb"
      },
      "execution_count": null,
      "outputs": [
        {
          "output_type": "stream",
          "name": "stdout",
          "text": [
            "cdefgh\n"
          ]
        }
      ]
    },
    {
      "cell_type": "markdown",
      "source": [
        "String slicing\n",
        "\n",
        "There's another syntax to slice a string:\n",
        "\n",
        "\n",
        "substring = string[start:end:step]"
      ],
      "metadata": {
        "id": "c1CKiBT-VxJ9"
      }
    },
    {
      "cell_type": "code",
      "source": [
        "s = \"abcdefghij\"\n",
        "print(s[2:9:3])"
      ],
      "metadata": {
        "colab": {
          "base_uri": "https://localhost:8080/"
        },
        "id": "2wWUOwfiV3cL",
        "outputId": "c5f46392-e784-47b0-9e0f-1c22e23d7ac6"
      },
      "execution_count": null,
      "outputs": [
        {
          "output_type": "stream",
          "name": "stdout",
          "text": [
            "cfh\n"
          ]
        }
      ]
    },
    {
      "cell_type": "markdown",
      "source": [
        "**Changing character using slicing**"
      ],
      "metadata": {
        "id": "KPnwzN3yY4Oq"
      }
    },
    {
      "cell_type": "code",
      "source": [
        "string='manohar'\n",
        "new_string = string[:4] + 'u' + string[1:]\n",
        "print(new_string)"
      ],
      "metadata": {
        "colab": {
          "base_uri": "https://localhost:8080/"
        },
        "id": "aYyJ8M9qXwv9",
        "outputId": "e28fdbdd-daf6-4300-9870-93f975f3af17"
      },
      "execution_count": null,
      "outputs": [
        {
          "output_type": "stream",
          "name": "stdout",
          "text": [
            "manouanohar\n"
          ]
        }
      ]
    },
    {
      "cell_type": "markdown",
      "source": [
        "Reverse slicing\n",
        "\n",
        "You can use [start:end:step] format to print a string in reverse.\n",
        "\n",
        "Let's see how.\n",
        "\n",
        "We know when slicing, the traversal (movement) always happens from left to right. But there is a way to traverse from right to left by mentioning a negative step."
      ],
      "metadata": {
        "id": "y_D1irXdY9bp"
      }
    },
    {
      "cell_type": "code",
      "source": [
        "s='abcde'\n",
        "print(s[4:0:-1])\n",
        "print(s[::-1])"
      ],
      "metadata": {
        "colab": {
          "base_uri": "https://localhost:8080/"
        },
        "id": "YPzrZqUrZAs2",
        "outputId": "0ec1dc4b-118a-49d4-b9b3-c645bd4ae1a8"
      },
      "execution_count": null,
      "outputs": [
        {
          "output_type": "stream",
          "name": "stdout",
          "text": [
            "edcb\n",
            "edcba\n"
          ]
        }
      ]
    },
    {
      "cell_type": "code",
      "source": [
        "s = \"abcdefghij\"\n",
        "print(s[8:3:-2])"
      ],
      "metadata": {
        "colab": {
          "base_uri": "https://localhost:8080/"
        },
        "id": "wTo1nGT8aK_9",
        "outputId": "2dd4c8f2-4b78-41a2-890b-ebc60c3bbf13"
      },
      "execution_count": null,
      "outputs": [
        {
          "output_type": "stream",
          "name": "stdout",
          "text": [
            "ige\n"
          ]
        }
      ]
    },
    {
      "cell_type": "markdown",
      "source": [
        "**Taking user input**\n",
        "\n",
        "Now we will use 'input()' to get user input."
      ],
      "metadata": {
        "id": "Hw_ZhWjcakXZ"
      }
    },
    {
      "cell_type": "code",
      "source": [
        "name = input()\n",
        "print(\"Hello, \" + name )\n",
        "\n",
        "age = input()\n",
        "print(\"You are \" + age + \" years old.\")"
      ],
      "metadata": {
        "colab": {
          "base_uri": "https://localhost:8080/"
        },
        "id": "Wx0Pdsjdar6n",
        "outputId": "b0d3b2b8-d181-406c-ac4f-a09c2017a256"
      },
      "execution_count": null,
      "outputs": [
        {
          "output_type": "stream",
          "name": "stdout",
          "text": [
            "manu\n",
            "Hello, manu\n",
            "456\n",
            "You are 456 years old.\n"
          ]
        }
      ]
    },
    {
      "cell_type": "code",
      "source": [
        "age = int(input())\n",
        "print(\"You are\", age, \"years old.\")"
      ],
      "metadata": {
        "colab": {
          "base_uri": "https://localhost:8080/"
        },
        "id": "D-zUcsO9bDco",
        "outputId": "d6a2be73-8bcc-469e-d6ed-dc5108f1bd7f"
      },
      "execution_count": null,
      "outputs": [
        {
          "output_type": "stream",
          "name": "stdout",
          "text": [
            "12\n",
            "You are 12 years old.\n"
          ]
        }
      ]
    },
    {
      "cell_type": "code",
      "source": [
        "name = input()\n",
        "print(\"Your name is:\", name)"
      ],
      "metadata": {
        "colab": {
          "base_uri": "https://localhost:8080/"
        },
        "id": "LOUTfrGQbZNE",
        "outputId": "bae5abdd-2a95-4a53-d819-06de14460630"
      },
      "execution_count": null,
      "outputs": [
        {
          "output_type": "stream",
          "name": "stdout",
          "text": [
            "mnbmn\n",
            "Your name is: mnbmn\n"
          ]
        }
      ]
    },
    {
      "cell_type": "code",
      "source": [
        "a = int(input())\n",
        "b = int(input())\n",
        "\n",
        "c = a + 2\n",
        "d = b + c\n",
        "\n",
        "print(d)"
      ],
      "metadata": {
        "colab": {
          "base_uri": "https://localhost:8080/"
        },
        "id": "5D8KT1ILdaIA",
        "outputId": "a6677017-848d-4fc3-a3a9-1e2f594b993f"
      },
      "execution_count": null,
      "outputs": [
        {
          "output_type": "stream",
          "name": "stdout",
          "text": [
            "2\n",
            "5\n",
            "9\n"
          ]
        }
      ]
    },
    {
      "cell_type": "markdown",
      "source": [
        "Multiple string inputs\n",
        "\n",
        "You've seen how to use the input() function to take input multiple times, accepting one value per line. However, sometimes you need to accept multiple inputs in a single line. To do this, you can use the split() function."
      ],
      "metadata": {
        "id": "3a_2ISpSds69"
      }
    },
    {
      "cell_type": "code",
      "source": [
        "a, b, c = input().split()\n",
        "print(a,b,c)"
      ],
      "metadata": {
        "colab": {
          "base_uri": "https://localhost:8080/"
        },
        "id": "3BV5Rkn1dvsS",
        "outputId": "057a25de-2cdd-4995-cced-d4d28c759fd3"
      },
      "execution_count": null,
      "outputs": [
        {
          "output_type": "stream",
          "name": "stdout",
          "text": [
            "gfff tyyy ttt\n",
            "gfff tyyy ttt\n"
          ]
        }
      ]
    },
    {
      "cell_type": "markdown",
      "source": [
        "The split() function breaks this single line of input into multiple parts. By default, split() divides the input based on spaces, so each word separated by a space is treated as an independent input and stored in different variables."
      ],
      "metadata": {
        "id": "UjnjjFrJd31b"
      }
    },
    {
      "cell_type": "markdown",
      "source": [
        "Multiple integer inputs\n",
        "\n",
        "The syntax you saw in the previous lesson takes string inputs. But if you need to take multiple integer inputs, you'll have to convert them separately.\n",
        "\n",
        "You cannot call the int function directly on the split input as int function can only be called on one value as a time and split input has multiple values.\n",
        "\n",
        "To handle this, you can use the map function to convert the split inputs to integers in one step. Here's how you can do it:"
      ],
      "metadata": {
        "id": "Fq-Tjd2aeRk8"
      }
    },
    {
      "cell_type": "code",
      "source": [
        "a, b, c = map(int, input().split())"
      ],
      "metadata": {
        "id": "lR6_8Nf4eTnm"
      },
      "execution_count": null,
      "outputs": []
    },
    {
      "cell_type": "code",
      "source": [
        "a, b, c = map(int, input().split())\n",
        "d, e = map(int, input().split())\n",
        "print (a+b+c+d+e)"
      ],
      "metadata": {
        "colab": {
          "base_uri": "https://localhost:8080/"
        },
        "id": "jO5AAybteW81",
        "outputId": "2c8d9af6-c258-428a-ee78-fbccd44a9ccf"
      },
      "execution_count": null,
      "outputs": [
        {
          "output_type": "stream",
          "name": "stdout",
          "text": [
            "1 3 5\n",
            "3 5\n",
            "17\n"
          ]
        }
      ]
    },
    {
      "cell_type": "code",
      "source": [
        "#1.Write a Python program to take a user’s name as input and print a greeting message.\n",
        "\n",
        "name = input()\n",
        "print(\"Hello\" \" \" +name)"
      ],
      "metadata": {
        "colab": {
          "base_uri": "https://localhost:8080/"
        },
        "id": "DfJ7mQaYJJPI",
        "outputId": "ac0a3708-9285-42af-90f4-b6c500f3c601"
      },
      "execution_count": null,
      "outputs": [
        {
          "output_type": "stream",
          "name": "stdout",
          "text": [
            "manu\n",
            "Hello manu\n"
          ]
        }
      ]
    },
    {
      "cell_type": "code",
      "source": [
        "#2.Write a program to take two numbers as input and print their sum.\n",
        "a=int(input())\n",
        "b=int(input())\n",
        "print(a+b)"
      ],
      "metadata": {
        "colab": {
          "base_uri": "https://localhost:8080/"
        },
        "id": "lhVAA8yeJ69M",
        "outputId": "3fbd67c4-3c6e-4f48-e1f1-c1d90c04a9ad"
      },
      "execution_count": null,
      "outputs": [
        {
          "output_type": "stream",
          "name": "stdout",
          "text": [
            "2\n",
            "7\n",
            "9\n"
          ]
        }
      ]
    },
    {
      "cell_type": "code",
      "source": [
        "#3.Write a program to input a sentence and count the number of words in it.\n",
        "\n",
        "s= input()\n",
        "w=s.split()\n",
        "print(len(w))"
      ],
      "metadata": {
        "colab": {
          "base_uri": "https://localhost:8080/"
        },
        "id": "lNQxWmtrKWdu",
        "outputId": "1c1c0239-b6eb-4914-c8a1-07271ad6caee"
      },
      "execution_count": null,
      "outputs": [
        {
          "output_type": "stream",
          "name": "stdout",
          "text": [
            "manu is a good boy\n",
            "5\n"
          ]
        }
      ]
    },
    {
      "cell_type": "code",
      "source": [
        "#4.Take input of a float number and an integer. Add them and print the result.\n",
        "\n",
        "fn=float(input())\n",
        "ino=int(input())\n",
        "print(fn+ino)"
      ],
      "metadata": {
        "colab": {
          "base_uri": "https://localhost:8080/"
        },
        "id": "wbLf5_etKmoD",
        "outputId": "d7fbba0f-fc0d-4a6c-b746-98aef8bc751a"
      },
      "execution_count": null,
      "outputs": [
        {
          "output_type": "stream",
          "name": "stdout",
          "text": [
            "4.77\n",
            "78\n",
            "82.77\n"
          ]
        }
      ]
    },
    {
      "cell_type": "code",
      "source": [
        "#5.Write a Python program that takes a character as input and prints its ASCII value.\n",
        "\n",
        "a=input()\n",
        "print(ord(a))"
      ],
      "metadata": {
        "colab": {
          "base_uri": "https://localhost:8080/"
        },
        "id": "b9XMRjfNLHGY",
        "outputId": "fe2555e3-5718-4f76-8eee-d613fceeed49"
      },
      "execution_count": null,
      "outputs": [
        {
          "output_type": "stream",
          "name": "stdout",
          "text": [
            "a\n",
            "97\n"
          ]
        }
      ]
    },
    {
      "cell_type": "code",
      "source": [
        "#6.Write a program to input two numbers and print their product, difference, and quotient.\n",
        "\n",
        "a,b = map(int, input().split())\n",
        "print(a*b,a-b,a/b)\n"
      ],
      "metadata": {
        "colab": {
          "base_uri": "https://localhost:8080/"
        },
        "id": "6IWaZC7wLbPt",
        "outputId": "9838312c-676b-4556-8cb4-ad73fd494873"
      },
      "execution_count": null,
      "outputs": [
        {
          "output_type": "stream",
          "name": "stdout",
          "text": [
            "2 5\n",
            "10 -3 0.4\n"
          ]
        }
      ]
    },
    {
      "cell_type": "code",
      "source": [
        "#7.Write a program to input two numbers and print the result of integer division and the modulus operator.\n",
        "\n",
        "a, b= map(int, input().split())\n",
        "print(a//b, a%b)"
      ],
      "metadata": {
        "colab": {
          "base_uri": "https://localhost:8080/"
        },
        "id": "grlKZkSnME0b",
        "outputId": "e2872fdc-417a-49fc-dfbd-d26c4ee15430"
      },
      "execution_count": null,
      "outputs": [
        {
          "output_type": "stream",
          "name": "stdout",
          "text": [
            "2 5\n",
            "0 2\n"
          ]
        }
      ]
    },
    {
      "cell_type": "code",
      "source": [
        "#8.Write a Python program to check whether a number entered by the user is even or odd using the modulus operator.\n",
        "\n",
        "a=int(input())\n",
        "if(a%2==0):\n",
        "  print(\"even\")\n",
        "else:\n",
        "  print(\"Odd\")"
      ],
      "metadata": {
        "colab": {
          "base_uri": "https://localhost:8080/"
        },
        "id": "WBejA0TCMU2B",
        "outputId": "21f10926-1c0a-46f0-803a-3af43b2735c4"
      },
      "execution_count": null,
      "outputs": [
        {
          "output_type": "stream",
          "name": "stdout",
          "text": [
            "4\n",
            "even\n"
          ]
        }
      ]
    },
    {
      "cell_type": "code",
      "source": [
        "#9.Write a program that takes the radius of a circle as input and calculates its area using the formula: area = πr².\n",
        "import math\n",
        "\n",
        "r=float(input())\n",
        "print(math.pi*r*r)"
      ],
      "metadata": {
        "colab": {
          "base_uri": "https://localhost:8080/"
        },
        "id": "XeXGp__HMvXy",
        "outputId": "d6e447ad-aea9-49e8-f037-e8b16da3909b"
      },
      "execution_count": null,
      "outputs": [
        {
          "output_type": "stream",
          "name": "stdout",
          "text": [
            "34\n",
            "3631.6811075498013\n"
          ]
        }
      ]
    },
    {
      "cell_type": "code",
      "source": [
        "#10.Write a program that takes a number and raises it to the power of another number entered by the user using the ** operator.\n",
        "base=float(input())\n",
        "power=int(input())\n",
        "print(base**power)\n"
      ],
      "metadata": {
        "colab": {
          "base_uri": "https://localhost:8080/"
        },
        "id": "-uNDTKDiNfgc",
        "outputId": "f18bff4a-ee26-41c3-d04c-54e42c000790"
      },
      "execution_count": null,
      "outputs": [
        {
          "output_type": "stream",
          "name": "stdout",
          "text": [
            "2\n",
            "5\n",
            "32.0\n"
          ]
        }
      ]
    },
    {
      "cell_type": "code",
      "source": [
        "#11.Write a program to input a string containing a number, convert it to an integer, and print the result.\n",
        "\n",
        "a=input()\n",
        "b=int(a)\n",
        "print(b)"
      ],
      "metadata": {
        "colab": {
          "base_uri": "https://localhost:8080/"
        },
        "id": "brfnj5LTOzrM",
        "outputId": "e8335303-75b4-4d09-9e5c-5d8761506d8f"
      },
      "execution_count": null,
      "outputs": [
        {
          "output_type": "stream",
          "name": "stdout",
          "text": [
            "56\n",
            "56\n"
          ]
        }
      ]
    },
    {
      "cell_type": "code",
      "source": [
        "#12.Write a program to take a float input from the user and convert it to an integer. Display both the original and converted values.\n",
        "\n",
        "a=float(input())\n",
        "print(a)\n",
        "print(int(a))"
      ],
      "metadata": {
        "colab": {
          "base_uri": "https://localhost:8080/"
        },
        "id": "HyqCWM1kP1AK",
        "outputId": "339cec49-58f9-421d-bc52-13dba92605f9"
      },
      "execution_count": null,
      "outputs": [
        {
          "output_type": "stream",
          "name": "stdout",
          "text": [
            "3.66\n",
            "3.66\n",
            "3\n"
          ]
        }
      ]
    },
    {
      "cell_type": "code",
      "source": [
        "#13.Write a Python program that takes two string inputs representing numbers, converts them to integers, and adds them.\n",
        "\n",
        "a=input()\n",
        "b=input()\n",
        "print(a+b)\n",
        "print(int(a)+int(b))"
      ],
      "metadata": {
        "colab": {
          "base_uri": "https://localhost:8080/"
        },
        "id": "4brQa82zQLp9",
        "outputId": "564fc541-4076-40fd-e3e6-1f08fe6fdce1"
      },
      "execution_count": null,
      "outputs": [
        {
          "output_type": "stream",
          "name": "stdout",
          "text": [
            "7\n",
            "7\n",
            "77\n",
            "14\n"
          ]
        }
      ]
    },
    {
      "cell_type": "code",
      "source": [
        "#14.Write a program to input a number as a string and print its reverse.\n",
        "\n",
        "n=input()\n",
        "\n",
        "print(n[::-1])"
      ],
      "metadata": {
        "colab": {
          "base_uri": "https://localhost:8080/"
        },
        "id": "Jn-oB1YZQwSE",
        "outputId": "60f02934-cd4b-495e-93a8-991710d3c5cb"
      },
      "execution_count": null,
      "outputs": [
        {
          "output_type": "stream",
          "name": "stdout",
          "text": [
            "manu\n",
            "unam\n"
          ]
        }
      ]
    },
    {
      "cell_type": "code",
      "source": [
        "#15.Write a program to take a string input, convert it to uppercase, and print the result.\n",
        "\n",
        "s= input()\n",
        "print(s.upper())"
      ],
      "metadata": {
        "colab": {
          "base_uri": "https://localhost:8080/"
        },
        "id": "LlctbkwEQ9sr",
        "outputId": "396ee6a9-d963-41b0-9536-f9ae08cda793"
      },
      "execution_count": null,
      "outputs": [
        {
          "output_type": "stream",
          "name": "stdout",
          "text": [
            "manu\n",
            "MANU\n"
          ]
        }
      ]
    },
    {
      "cell_type": "code",
      "source": [
        "#16. Write a Python program to input a temperature in Fahrenheit, convert it to Celsius using the formula C = (F - 32) × 5/9, and print the result.\n",
        "\n",
        "f=float(input())\n",
        "\n",
        "c= (f-32) * 5/9\n",
        "\n",
        "print(c)\n"
      ],
      "metadata": {
        "colab": {
          "base_uri": "https://localhost:8080/"
        },
        "id": "sOogxRmKRS5s",
        "outputId": "b2f7647e-1fbc-44b4-8938-e4642036cf49"
      },
      "execution_count": null,
      "outputs": [
        {
          "output_type": "stream",
          "name": "stdout",
          "text": [
            "12.6\n",
            "-10.777777777777779\n"
          ]
        }
      ]
    },
    {
      "cell_type": "code",
      "source": [
        "#17.Write a program to input a distance in kilometers, convert it to meters, and print the result.\n",
        "\n",
        "K=float(input())\n",
        "M= K*1000\n",
        "print(M)"
      ],
      "metadata": {
        "colab": {
          "base_uri": "https://localhost:8080/"
        },
        "id": "1namufM9R0Yz",
        "outputId": "609b8773-b5ff-4ec2-a94e-2a4700778e3f"
      },
      "execution_count": null,
      "outputs": [
        {
          "output_type": "stream",
          "name": "stdout",
          "text": [
            "2.1\n",
            "2100.0\n"
          ]
        }
      ]
    },
    {
      "cell_type": "code",
      "source": [
        "#18.Write a program to input two numbers as strings, concatenate them, and print the result both as a string and as a number (after converting them to integers).\n",
        "\n",
        "a=input()\n",
        "b=input()\n",
        "print(a+b)\n",
        "print(int(a)+int(b))\n"
      ],
      "metadata": {
        "colab": {
          "base_uri": "https://localhost:8080/"
        },
        "id": "b1O96E0OSNJW",
        "outputId": "7a469897-d2af-411e-d5ce-f65f66d1d041"
      },
      "execution_count": null,
      "outputs": [
        {
          "output_type": "stream",
          "name": "stdout",
          "text": [
            "2\n",
            "3\n",
            "23\n",
            "5\n"
          ]
        }
      ]
    },
    {
      "cell_type": "code",
      "source": [
        "#19.Write a program to input a float number, round it to the nearest integer, and print the rounded value.\n",
        "\n",
        "\n",
        "a=float(input())\n",
        "print(round(a))"
      ],
      "metadata": {
        "colab": {
          "base_uri": "https://localhost:8080/"
        },
        "id": "J45f1frPSifo",
        "outputId": "77812403-4f22-4f86-987b-25c976150279"
      },
      "execution_count": null,
      "outputs": [
        {
          "output_type": "stream",
          "name": "stdout",
          "text": [
            "2.5\n",
            "2\n"
          ]
        }
      ]
    },
    {
      "cell_type": "code",
      "source": [
        "#20.Write a program to input the length and breadth of a rectangle, calculate the area and perimeter, and display the results using proper typecasting if necessary.\n",
        "\n",
        "l= float(input())\n",
        "b= float(input())\n",
        "\n",
        "area = l*b\n",
        "\n",
        "per = 2*(l+b)\n",
        "\n",
        "print(area)\n",
        "print(per)"
      ],
      "metadata": {
        "colab": {
          "base_uri": "https://localhost:8080/"
        },
        "id": "zjhp9z2qTLxW",
        "outputId": "e098d239-1a1d-4a6f-a73e-17bf5002409d"
      },
      "execution_count": null,
      "outputs": [
        {
          "output_type": "stream",
          "name": "stdout",
          "text": [
            "2.4\n",
            "5.66\n",
            "13.584\n",
            "16.12\n"
          ]
        }
      ]
    },
    {
      "cell_type": "markdown",
      "source": [
        "**Need of If-Else**\n",
        "\n",
        "![image.png](data:image/png;base64,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)"
      ],
      "metadata": {
        "id": "w8Orux7RQgU9"
      }
    },
    {
      "cell_type": "markdown",
      "source": [
        "**If & Else Statements**\n",
        "\n",
        "We use conditions in code for decision making and controlling the flow of a program.\n",
        "\n",
        "IF and ELSE can be used together to create conditions."
      ],
      "metadata": {
        "id": "RolIlHFpQ6nK"
      }
    },
    {
      "cell_type": "code",
      "source": [
        "if condition:\n",
        "    # code to run if the condition is true\n",
        "else:\n",
        "    # code to run if the above condition is false"
      ],
      "metadata": {
        "id": "1LXNLLQeQ-dM"
      },
      "execution_count": null,
      "outputs": []
    },
    {
      "cell_type": "code",
      "source": [
        "a = 4\n",
        "b = 5\n",
        "if a == b:\n",
        "    print(\"a and b are equal\")\n",
        "else:\n",
        "    print(\"a and b are not equal\")"
      ],
      "metadata": {
        "colab": {
          "base_uri": "https://localhost:8080/"
        },
        "id": "CZpj-GwrRFTH",
        "outputId": "5d032dcb-6ade-475a-f429-aa2f43186b34"
      },
      "execution_count": null,
      "outputs": [
        {
          "output_type": "stream",
          "name": "stdout",
          "text": [
            "a and b are not equal\n"
          ]
        }
      ]
    },
    {
      "cell_type": "markdown",
      "source": [
        "Write a program which does the following\n",
        "\n",
        "Let's think of a real-life example where we need to find out if a person is old enough to vote.\n",
        "\n",
        "Find out if the age entered by the user is greater than OR equal to the voting age limit, which is set to 18.\n",
        "\n",
        "Declare the variable age - take an integer input and store it in age.\n",
        "\n",
        "Compare age and voting age limit using the syntax given above and output the following\n",
        "\n",
        "\"Old enough to vote\" if age is greater than or equal to voting age limit\n",
        "\n",
        "\"Not old enough to vote\" if age is lesser than voting age limit"
      ],
      "metadata": {
        "id": "mE2tUs3tRx-_"
      }
    },
    {
      "cell_type": "code",
      "source": [
        "age = int(input())\n",
        "\n",
        "if age >=18   :\n",
        "  print(\"Old enough to vote\")\n",
        "else  :\n",
        "  print(\"Not old enough to vote\")"
      ],
      "metadata": {
        "colab": {
          "base_uri": "https://localhost:8080/"
        },
        "id": "z07KbtFOR4Rl",
        "outputId": "32e5756b-c8fb-4b60-b65b-12e201734171"
      },
      "execution_count": null,
      "outputs": [
        {
          "output_type": "stream",
          "name": "stdout",
          "text": [
            "567\n",
            "Old enough to vote\n"
          ]
        }
      ]
    },
    {
      "cell_type": "markdown",
      "source": [
        "**If Statement**\n",
        "\n",
        "The else statement is optional.\n",
        "\n",
        "the if condition checks whether the grade is greater than or equal to 90. If the condition is True, the print statement inside the if block is executed, and it prints \"You got an A\".\n",
        "\n",
        "If the condition is False, the program skips the if block and moves on to the next part of the code (if any). Since there is no else block in this example, nothing happens if the condition is False.\n",
        "\n",
        "The else block is useful when you want to specify an action if the if condition is not met, but it's not necessary if you only need to perform an action when the condition is True."
      ],
      "metadata": {
        "id": "GJeuOArrTCNA"
      }
    },
    {
      "cell_type": "code",
      "source": [
        "grade = 95\n",
        "if grade >= 90:\n",
        "    print(\"You got an A\")"
      ],
      "metadata": {
        "colab": {
          "base_uri": "https://localhost:8080/"
        },
        "id": "DGykOmjETNlL",
        "outputId": "45ac3359-1a4e-42c5-c9ce-e892c11b82df"
      },
      "execution_count": null,
      "outputs": [
        {
          "output_type": "stream",
          "name": "stdout",
          "text": [
            "You got an A\n"
          ]
        }
      ]
    },
    {
      "cell_type": "markdown",
      "source": [
        "Write a program which does the following\n",
        "\n",
        "Take input for two integer variables a & b\n",
        "\n",
        "Output \"Coding is Fun\" to the console if a is greater than b"
      ],
      "metadata": {
        "id": "76dSLUqkTZ9Z"
      }
    },
    {
      "cell_type": "code",
      "source": [
        "a = int(input())\n",
        "b= int(input())\n",
        "\n",
        "if a > b:\n",
        "  print(\"Coding is fun\")"
      ],
      "metadata": {
        "colab": {
          "base_uri": "https://localhost:8080/"
        },
        "id": "cwzBHb8_Tc96",
        "outputId": "5f9b2d7f-3b9f-4626-98d1-c75419287062"
      },
      "execution_count": null,
      "outputs": [
        {
          "name": "stdout",
          "output_type": "stream",
          "text": [
            "333\n",
            "555\n"
          ]
        }
      ]
    },
    {
      "cell_type": "markdown",
      "source": [
        "**Elif Statement**"
      ],
      "metadata": {
        "id": "sVsKIW0LT2xY"
      }
    },
    {
      "cell_type": "code",
      "source": [
        "grade = 85\n",
        "\n",
        "if grade >= 90:\n",
        "    print(\"You got an A\")\n",
        "elif grade >= 80:\n",
        "    print(\"You got a B\")\n",
        "else:\n",
        "  print(\"Fail\")"
      ],
      "metadata": {
        "colab": {
          "base_uri": "https://localhost:8080/"
        },
        "id": "Y778jCsRT5LU",
        "outputId": "63e6f442-0f85-4ad9-81dc-c3c3db590ef3"
      },
      "execution_count": null,
      "outputs": [
        {
          "output_type": "stream",
          "name": "stdout",
          "text": [
            "You got a B\n"
          ]
        }
      ]
    },
    {
      "cell_type": "markdown",
      "source": [
        "Write a program which does the following\n",
        "\n",
        "Take two integers b and r as input\n",
        "\n",
        "Print \"Rob scored higher marks than Bob\", if r is greater than b\n",
        "\n",
        "Print \"Bob & Rob both scored the same\", if both b and r are equal"
      ],
      "metadata": {
        "id": "iejM8nBWUOIT"
      }
    },
    {
      "cell_type": "code",
      "source": [
        "b = int(input())\n",
        "r = int(input())\n",
        "\n",
        "if r > b :\n",
        "  print(\"High\")\n",
        "elif r == b:\n",
        "  print(\"Both\")"
      ],
      "metadata": {
        "colab": {
          "base_uri": "https://localhost:8080/"
        },
        "id": "u_avTQtTUQfJ",
        "outputId": "a13072f8-1936-410a-a608-e2a6e9a891a5"
      },
      "execution_count": null,
      "outputs": [
        {
          "output_type": "stream",
          "name": "stdout",
          "text": [
            "55\n",
            "56\n",
            "High\n"
          ]
        }
      ]
    },
    {
      "cell_type": "markdown",
      "source": [
        "**Else Statement**\n",
        "\n",
        "The else keyword handles the case that don't meet the conditions specified in the if and elif statements. It's like a \"none of the above\" option in programming."
      ],
      "metadata": {
        "id": "S24yLP17U_OB"
      }
    },
    {
      "cell_type": "code",
      "source": [
        "a = int(input())\n",
        "\n",
        "b= int(input())\n",
        "\n",
        "if a >b:\n",
        "  print(\">\")\n",
        "elif a<b:\n",
        "  print(\"<\")\n",
        "else:\n",
        "  print(\"==\")"
      ],
      "metadata": {
        "colab": {
          "base_uri": "https://localhost:8080/"
        },
        "id": "8FmTv-q1VKi5",
        "outputId": "d3636d68-8319-4768-ca77-faaa92b602da"
      },
      "execution_count": null,
      "outputs": [
        {
          "output_type": "stream",
          "name": "stdout",
          "text": [
            "344\n",
            "66\n",
            ">\n"
          ]
        }
      ]
    },
    {
      "cell_type": "markdown",
      "source": [
        "Print some text based on below conditions:\n",
        "\n",
        "If the score is 100, print \"Perfect score\"\n",
        "\n",
        "If the score is less than 100, but greater or equal\n",
        "to 80, print \"Almost perfect score\"\n",
        "\n",
        "If the score is less than 80, print \"Nice try\""
      ],
      "metadata": {
        "id": "n_1Op06aVu86"
      }
    },
    {
      "cell_type": "code",
      "source": [
        "score = int(input())\n",
        "\n",
        "if score == 100:\n",
        "    print(\"Perfect score\")\n",
        "elif score >= 80:\n",
        "    print(\"Almost perfect score\")\n",
        "else:\n",
        "    print(\"Nice try\")"
      ],
      "metadata": {
        "id": "p9c1H7JpVTPn"
      },
      "execution_count": null,
      "outputs": []
    },
    {
      "cell_type": "markdown",
      "source": [
        "**And Statement**"
      ],
      "metadata": {
        "id": "b3hSMH4oW4Re"
      }
    },
    {
      "cell_type": "code",
      "source": [
        "x = 8\n",
        "y = 7\n",
        "\n",
        "if x > 5 and y < 10:\n",
        "    print(\"Both conditions are true!\")\n",
        "else:\n",
        "    print(\"At least one condition is false.\")\n"
      ],
      "metadata": {
        "colab": {
          "base_uri": "https://localhost:8080/"
        },
        "id": "5MkVhvY5W8Cv",
        "outputId": "6d78ec7d-2f2d-4a33-92d4-73d835f0d0f3"
      },
      "execution_count": null,
      "outputs": [
        {
          "output_type": "stream",
          "name": "stdout",
          "text": [
            "Both conditions are true!\n"
          ]
        }
      ]
    },
    {
      "cell_type": "markdown",
      "source": [
        "Write a program which does the following:\n",
        "\n",
        "Declare a variable a and initialize it to the values\n",
        "15\n",
        "\n",
        "\n",
        "Compute if a is completely divisible by both 7 and 5\n",
        "\n",
        "Depending on the result above - output the following to the console\n",
        "\n",
        "The number is divisible by both 5 & 7\n",
        "\n",
        "The number is not divisible by both 5 & 7"
      ],
      "metadata": {
        "id": "CpriRSsOXJ7c"
      }
    },
    {
      "cell_type": "code",
      "source": [
        "a = 15\n",
        "\n",
        "if (a%7==0) and (a%5==0):\n",
        "  print(\"Div\")\n",
        "else:\n",
        "  print(\"Nor\")"
      ],
      "metadata": {
        "colab": {
          "base_uri": "https://localhost:8080/"
        },
        "id": "7fqdZyP4XQm7",
        "outputId": "260d614b-710f-4006-f034-7c818a91e78f"
      },
      "execution_count": null,
      "outputs": [
        {
          "output_type": "stream",
          "name": "stdout",
          "text": [
            "Nor\n"
          ]
        }
      ]
    },
    {
      "cell_type": "markdown",
      "source": [
        "**Or Statement**"
      ],
      "metadata": {
        "id": "i7NhqiZKXpFc"
      }
    },
    {
      "cell_type": "code",
      "source": [
        "age = 22\n",
        "\n",
        "if age < 18 or age > 65:\n",
        "    print(\"This person is either under 18 or over 65.\")\n",
        "else:\n",
        "    print(\"This person is between 18 and 65.\")"
      ],
      "metadata": {
        "colab": {
          "base_uri": "https://localhost:8080/"
        },
        "id": "kJh_wnAeXrZV",
        "outputId": "7f29da6d-393d-4ea2-cfe3-1d446683d7f9"
      },
      "execution_count": null,
      "outputs": [
        {
          "output_type": "stream",
          "name": "stdout",
          "text": [
            "This person is between 18 and 65.\n"
          ]
        }
      ]
    },
    {
      "cell_type": "markdown",
      "source": [
        "Write a program which does the following\n",
        "\n",
        "Take input from the console for integer variables z, x and c.\n",
        "\n",
        "Compute and output the following for each tuple z, x and c\n",
        "\n",
        "\"PASS\" if c is greater than either x or z\n",
        "\n",
        "Otherwise print \"FAIL\" in every other case"
      ],
      "metadata": {
        "id": "2cmi2jNbXxN3"
      }
    },
    {
      "cell_type": "code",
      "source": [
        "z, x, c = map(int, input().split())\n",
        "\n",
        "if c > x or c > z:\n",
        "    print(\"PASS\")\n",
        "else:\n",
        "    print(\"FAIL\")"
      ],
      "metadata": {
        "colab": {
          "base_uri": "https://localhost:8080/"
        },
        "id": "ttwuMjJiX0Zu",
        "outputId": "eb6bcd26-64a3-453f-d3fa-34939dcced8d"
      },
      "execution_count": null,
      "outputs": [
        {
          "output_type": "stream",
          "name": "stdout",
          "text": [
            "4 5 6\n",
            "PASS\n"
          ]
        }
      ]
    },
    {
      "cell_type": "markdown",
      "source": [
        "Debugging\n",
        "\n",
        "As you learn more advance concepts of Python, you will start making mistakes in your code. Sometimes these mistakes can be very hard to find."
      ],
      "metadata": {
        "id": "MRQxaShZYfYd"
      }
    },
    {
      "cell_type": "markdown",
      "source": [
        "What is a bug?\n",
        "\n",
        "A bug is an error that causes the program to generate an unexpected output that is different from the expected output or no output. What are some of the error codes you saw so far?\n",
        "\n",
        "CE - Compilation error / Syntax error\n",
        "\n",
        "RE - Run time error\n",
        "\n",
        "WA - Wrong answer / Logical error\n",
        "\n",
        "TLE - Time limit exceeded"
      ],
      "metadata": {
        "id": "aA9W1l5_YmTp"
      }
    },
    {
      "cell_type": "code",
      "source": [
        "#Compilation error (syntax error)\n",
        "name = input()\n",
        "if name == \"piyush\":\n",
        "print(\"Hello piyush\")\n",
        "else:\n",
        "    print(\"you are not registered\")"
      ],
      "metadata": {
        "colab": {
          "base_uri": "https://localhost:8080/",
          "height": 110
        },
        "id": "RFMbQCEuY7cl",
        "outputId": "8667dfaa-475d-4081-bb08-40d0957aa437"
      },
      "execution_count": null,
      "outputs": [
        {
          "output_type": "error",
          "ename": "IndentationError",
          "evalue": "expected an indented block after 'if' statement on line 3 (<ipython-input-26-a9730dad89ad>, line 4)",
          "traceback": [
            "\u001b[0;36m  File \u001b[0;32m\"<ipython-input-26-a9730dad89ad>\"\u001b[0;36m, line \u001b[0;32m4\u001b[0m\n\u001b[0;31m    print(\"Hello piyush\")\u001b[0m\n\u001b[0m    ^\u001b[0m\n\u001b[0;31mIndentationError\u001b[0m\u001b[0;31m:\u001b[0m expected an indented block after 'if' statement on line 3\n"
          ]
        }
      ]
    },
    {
      "cell_type": "code",
      "source": [
        "name = \"piyush\"\n",
        "if name == \"piyush\"\n",
        "    print(name)"
      ],
      "metadata": {
        "colab": {
          "base_uri": "https://localhost:8080/",
          "height": 110
        },
        "id": "rztQ8MCTZOFC",
        "outputId": "ec765577-21dc-4d1c-c098-7ad3c60b0e72"
      },
      "execution_count": null,
      "outputs": [
        {
          "output_type": "error",
          "ename": "SyntaxError",
          "evalue": "expected ':' (<ipython-input-27-f41b667ad17e>, line 2)",
          "traceback": [
            "\u001b[0;36m  File \u001b[0;32m\"<ipython-input-27-f41b667ad17e>\"\u001b[0;36m, line \u001b[0;32m2\u001b[0m\n\u001b[0;31m    if name == \"piyush\"\u001b[0m\n\u001b[0m                       ^\u001b[0m\n\u001b[0;31mSyntaxError\u001b[0m\u001b[0;31m:\u001b[0m expected ':'\n"
          ]
        }
      ]
    },
    {
      "cell_type": "code",
      "source": [
        "#Runtime error\n",
        "a = 5\n",
        "b = 0\n",
        "c = a / b"
      ],
      "metadata": {
        "colab": {
          "base_uri": "https://localhost:8080/",
          "height": 182
        },
        "id": "_wECPmWgZd59",
        "outputId": "ff534acb-c29a-4cfc-8c9c-d1ad01083a01"
      },
      "execution_count": null,
      "outputs": [
        {
          "output_type": "error",
          "ename": "ZeroDivisionError",
          "evalue": "division by zero",
          "traceback": [
            "\u001b[0;31m---------------------------------------------------------------------------\u001b[0m",
            "\u001b[0;31mZeroDivisionError\u001b[0m                         Traceback (most recent call last)",
            "\u001b[0;32m<ipython-input-28-3df9179270ab>\u001b[0m in \u001b[0;36m<cell line: 4>\u001b[0;34m()\u001b[0m\n\u001b[1;32m      2\u001b[0m \u001b[0ma\u001b[0m \u001b[0;34m=\u001b[0m \u001b[0;36m5\u001b[0m\u001b[0;34m\u001b[0m\u001b[0;34m\u001b[0m\u001b[0m\n\u001b[1;32m      3\u001b[0m \u001b[0mb\u001b[0m \u001b[0;34m=\u001b[0m \u001b[0;36m0\u001b[0m\u001b[0;34m\u001b[0m\u001b[0;34m\u001b[0m\u001b[0m\n\u001b[0;32m----> 4\u001b[0;31m \u001b[0mc\u001b[0m \u001b[0;34m=\u001b[0m \u001b[0ma\u001b[0m \u001b[0;34m/\u001b[0m \u001b[0mb\u001b[0m\u001b[0;34m\u001b[0m\u001b[0;34m\u001b[0m\u001b[0m\n\u001b[0m",
            "\u001b[0;31mZeroDivisionError\u001b[0m: division by zero"
          ]
        }
      ]
    },
    {
      "cell_type": "markdown",
      "source": [
        "Logical Error or Wrong Answer (WA)\n",
        "\n",
        "A logical error is an error in a program that occurs when the code compiles and runs without producing any error messages, but it does not produce the expected or desired output.\n",
        "\n",
        "Instead, it performs a different computation or provides incorrect results due to a flaw in the algorithm or logic of the program.\n",
        "\n",
        "Logical errors are the hardest to find in a program. One needs to have enough debugging practice to figure out logical errors.\n",
        "\n",
        "They can be categorized into different types:\n",
        "\n",
        "Incorrect Conditions\n",
        "\n",
        "Incorrect Index\n",
        "\n",
        "Incorrect variable usage\n"
      ],
      "metadata": {
        "id": "yQNvlKGEZ2Np"
      }
    },
    {
      "cell_type": "code",
      "source": [
        "n = 10\n",
        "\n",
        "if n % 2 == 0:\n",
        "    print(\"odd\")\n",
        "else:\n",
        "    print(\"even\")"
      ],
      "metadata": {
        "colab": {
          "base_uri": "https://localhost:8080/"
        },
        "id": "IMSxN8bUaoZ9",
        "outputId": "67acbf35-d743-460f-df8d-95e30f3c2be5"
      },
      "execution_count": null,
      "outputs": [
        {
          "output_type": "stream",
          "name": "stdout",
          "text": [
            "odd\n"
          ]
        }
      ]
    },
    {
      "cell_type": "code",
      "source": [
        "n = 10\n",
        "\n",
        "if n % 2 != 0:\n",
        "    print(\"odd\")\n",
        "else:\n",
        "    print(\"even\")"
      ],
      "metadata": {
        "colab": {
          "base_uri": "https://localhost:8080/"
        },
        "id": "1XlwuUFUasHs",
        "outputId": "d52555e9-22bc-44c5-c8c1-3c020b9122a2"
      },
      "execution_count": null,
      "outputs": [
        {
          "output_type": "stream",
          "name": "stdout",
          "text": [
            "even\n"
          ]
        }
      ]
    },
    {
      "cell_type": "markdown",
      "source": [
        "**Creating Arrays**\n",
        "\n",
        "Arrays in Python are commonly referred to as lists.\n",
        "\n",
        "Arrays are used to store multiple values in a single variable, instead of declaring separate variables for each value.\n",
        "\n",
        "In Python, list is denoted by square brackets []\n",
        "\n",
        "It can hold elements of different data types, such as numbers, strings, or even other lists.\n",
        "\n",
        "Lists are mutable, which means you can modify them by adding, removing, or changing elements."
      ],
      "metadata": {
        "id": "jw0YlVV0bygr"
      }
    },
    {
      "cell_type": "code",
      "source": [
        "fruits = [\"apple\", \"banana\", \"orange\", \"grape\"]\n",
        "\n",
        "numbers = [20, 10, 0, -5]"
      ],
      "metadata": {
        "id": "DIIeQ1RPcOaw"
      },
      "execution_count": null,
      "outputs": []
    },
    {
      "cell_type": "markdown",
      "source": [
        "Write a program which does the following\n",
        "\n",
        "Create an Array of the first 5 positive integers - name it integers\n",
        "\n",
        "Once the array is defined - output \"Done\" to the console."
      ],
      "metadata": {
        "id": "QV7RoZLGcW1V"
      }
    },
    {
      "cell_type": "code",
      "source": [
        "i = [1,2,3,4,45]\n",
        "print(\"Done\")"
      ],
      "metadata": {
        "colab": {
          "base_uri": "https://localhost:8080/"
        },
        "id": "u-Ze3Ch1cYd4",
        "outputId": "cc234181-b516-481a-cc51-c4e94ceddf90"
      },
      "execution_count": null,
      "outputs": [
        {
          "output_type": "stream",
          "name": "stdout",
          "text": [
            "Done\n"
          ]
        }
      ]
    },
    {
      "cell_type": "markdown",
      "source": [
        "Index & printing specific elements of an Array\n",
        "\n",
        "You access an array element by referring to the index number inside square brackets [].\n",
        "\n",
        "Similar to what we saw in strings, list items are indexed and you can access them by referring to their index number:"
      ],
      "metadata": {
        "id": "RrfTXVcRct7v"
      }
    },
    {
      "cell_type": "code",
      "source": [
        " 0      1      2      - index numbers\n",
        "[\"red\",\"Green\",\"Blue\"]  - the list"
      ],
      "metadata": {
        "id": "cY-O_R3McyoO"
      },
      "execution_count": null,
      "outputs": []
    },
    {
      "cell_type": "code",
      "source": [
        "arr = [\"red\",\"Green\",\"Blue\"]\n",
        "print(arr[2])\n",
        "\n",
        "num = [1, 2, 3, 4, 5]\n",
        "\n",
        "print(num[2])"
      ],
      "metadata": {
        "colab": {
          "base_uri": "https://localhost:8080/"
        },
        "id": "QOEXOThzc5B7",
        "outputId": "6c804a60-b9a8-4f33-c4fa-8831072391f6"
      },
      "execution_count": null,
      "outputs": [
        {
          "output_type": "stream",
          "name": "stdout",
          "text": [
            "Blue\n",
            "3\n"
          ]
        }
      ]
    },
    {
      "cell_type": "markdown",
      "source": [
        "**Changing the elements of an Array**"
      ],
      "metadata": {
        "id": "fNBmxdFhdPEo"
      }
    },
    {
      "cell_type": "code",
      "source": [
        "fruits = [\"apple\", \"banana\", \"orange\", \"grape\"]\n",
        "\n",
        "fruits[2] = \"mango\"\n",
        "\n",
        "print(fruits)"
      ],
      "metadata": {
        "colab": {
          "base_uri": "https://localhost:8080/"
        },
        "id": "zAgysr5CdSSA",
        "outputId": "e41028c4-6fe5-404b-8bec-1e49445bda0e"
      },
      "execution_count": null,
      "outputs": [
        {
          "output_type": "stream",
          "name": "stdout",
          "text": [
            "['apple', 'banana', 'mango', 'grape']\n"
          ]
        }
      ]
    },
    {
      "cell_type": "code",
      "source": [
        "#Displaying elements\n",
        "week = [\"Monday\", \"Tuesday\", \"Wednesday\", \"Thursday\"]\n",
        "\n",
        "print(week)\n",
        "\n",
        "print(week[2])\n"
      ],
      "metadata": {
        "colab": {
          "base_uri": "https://localhost:8080/"
        },
        "id": "tP2hDNaBdv-g",
        "outputId": "cd172859-39ac-44ee-f395-34ed2a0f0a5d"
      },
      "execution_count": null,
      "outputs": [
        {
          "output_type": "stream",
          "name": "stdout",
          "text": [
            "['Monday', 'Tuesday', 'Wednesday', 'Thursday']\n",
            "Wednesday\n"
          ]
        }
      ]
    },
    {
      "cell_type": "markdown",
      "source": [
        "**Displaying the count of elements**"
      ],
      "metadata": {
        "id": "I2OkWdeId_ln"
      }
    },
    {
      "cell_type": "code",
      "source": [
        "week = [\"Monday\", \"Tuesday\", \"Wednesday\", \"Thursday\"]\n",
        "\n",
        "print(len(week))"
      ],
      "metadata": {
        "colab": {
          "base_uri": "https://localhost:8080/"
        },
        "id": "4gTkRjtAeBJr",
        "outputId": "dd4f3111-467d-41ab-d090-0fd5745778d1"
      },
      "execution_count": null,
      "outputs": [
        {
          "output_type": "stream",
          "name": "stdout",
          "text": [
            "4\n"
          ]
        }
      ]
    },
    {
      "cell_type": "code",
      "source": [
        "# Negative Indexing\n",
        "\n",
        "list = [\"lock\",\"key\",\"barrier\",\"sign\",\"door\"]\n",
        "print(list[ -2 ])"
      ],
      "metadata": {
        "colab": {
          "base_uri": "https://localhost:8080/"
        },
        "id": "sVyC3chjeFAe",
        "outputId": "fb2e65f9-3392-4a11-e0cf-9e367d93645b"
      },
      "execution_count": null,
      "outputs": [
        {
          "output_type": "stream",
          "name": "stdout",
          "text": [
            "sign\n"
          ]
        }
      ]
    },
    {
      "cell_type": "markdown",
      "source": [
        "Slicing a list\n",
        "\n",
        "Similar to what we saw in slicing of strings, you can slice lists as well."
      ],
      "metadata": {
        "id": "fNnyUKF0eeMM"
      }
    },
    {
      "cell_type": "code",
      "source": [
        "months = [\"January\", \"February\", \"March\", \"April\", \"May\", \"June\", \"July\"]\n",
        "\n",
        "print(months[0:6])\n",
        "\n",
        "print(months[1:5])"
      ],
      "metadata": {
        "colab": {
          "base_uri": "https://localhost:8080/"
        },
        "id": "tayQN8x-enR_",
        "outputId": "b981b74f-ad59-4786-d108-f5b3b0177237"
      },
      "execution_count": null,
      "outputs": [
        {
          "output_type": "stream",
          "name": "stdout",
          "text": [
            "['January', 'February', 'March', 'April', 'May', 'June']\n",
            "['February', 'March', 'April', 'May']\n"
          ]
        }
      ]
    },
    {
      "cell_type": "markdown",
      "source": [
        "Operations on Lists\n",
        "\n",
        "So far, we've learned how to access list items using indexing and slicing.\n",
        "As you move ahead on lists, you will want to do more than fetch items from the lists.\n",
        "\n",
        "Python allows you even to update and modify lists.\n",
        "\n",
        "There are four major functions that you can use to update any given list and its items.\n",
        "\n",
        "1. append()\n",
        "This function helps you to add a new item at the end of the list.\n",
        "\n",
        "2. insert()\n",
        "This function helps you to add a new item at a specific position in the list. You can exactly specify which position you want to add the new item.\n",
        "\n",
        "3. remove()\n",
        "This is used to remove the first matching element from a list. You can exactly specify which item you want to remove from the list.\n",
        "\n",
        "4. pop()\n",
        "This is used to remove the element at the specified position."
      ],
      "metadata": {
        "id": "pf2zicgTe6nE"
      }
    },
    {
      "cell_type": "code",
      "source": [
        "f = [\"apple\", \"banana\", \"cherry\"]\n",
        "f.append(\"manogo\")\n",
        "print(f)"
      ],
      "metadata": {
        "colab": {
          "base_uri": "https://localhost:8080/"
        },
        "id": "ZLWMJnalffss",
        "outputId": "2b719381-483f-4dcc-d11d-c4a684a243d3"
      },
      "execution_count": null,
      "outputs": [
        {
          "output_type": "stream",
          "name": "stdout",
          "text": [
            "['apple', 'banana', 'cherry', 'manogo']\n"
          ]
        }
      ]
    },
    {
      "cell_type": "code",
      "source": [
        "f = [\"apple\", \"banana\", \"cherry\"]\n",
        "\n",
        "f.insert(1, \"mango\")\n",
        "\n",
        "print(f)"
      ],
      "metadata": {
        "colab": {
          "base_uri": "https://localhost:8080/"
        },
        "id": "z0vPEcOzfn5c",
        "outputId": "d3ae3302-4fe9-4363-bf7a-c48debade73d"
      },
      "execution_count": null,
      "outputs": [
        {
          "output_type": "stream",
          "name": "stdout",
          "text": [
            "['apple', 'mango', 'banana', 'cherry']\n"
          ]
        }
      ]
    },
    {
      "cell_type": "code",
      "source": [
        "f = [\"apple\", \"banana\", \"cherry\"]\n",
        "\n",
        "f.remove(\"banana\")\n",
        "\n",
        "print(f)"
      ],
      "metadata": {
        "colab": {
          "base_uri": "https://localhost:8080/"
        },
        "id": "MTjUfniCf8vn",
        "outputId": "96f4ff17-f0fc-431e-fe5c-a1adbeec169a"
      },
      "execution_count": null,
      "outputs": [
        {
          "output_type": "stream",
          "name": "stdout",
          "text": [
            "['apple', 'cherry']\n"
          ]
        }
      ]
    },
    {
      "cell_type": "code",
      "source": [
        "f = [\"apple\", \"banana\", \"cherry\"]\n",
        "\n",
        "f.pop(1)\n",
        "\n",
        "print(f)"
      ],
      "metadata": {
        "colab": {
          "base_uri": "https://localhost:8080/"
        },
        "id": "cjlKtLI7gkE5",
        "outputId": "bab6ce26-3cd0-489c-9d9d-6a67df8c086b"
      },
      "execution_count": null,
      "outputs": [
        {
          "output_type": "stream",
          "name": "stdout",
          "text": [
            "['apple', 'cherry']\n"
          ]
        }
      ]
    },
    {
      "cell_type": "markdown",
      "source": [
        "**List concatenation**"
      ],
      "metadata": {
        "id": "pX0H_ZB-g3of"
      }
    },
    {
      "cell_type": "code",
      "source": [
        "fruits1 = [\"apple\", \"banana\"]\n",
        "fruits2 = [\"cherry\", \"date\"]\n",
        "all_fruits = fruits1 + fruits2\n",
        "print(all_fruits)"
      ],
      "metadata": {
        "colab": {
          "base_uri": "https://localhost:8080/"
        },
        "id": "yi3RXUUpg8Wq",
        "outputId": "8bcea27d-5c94-48f0-8e2c-7f7e16831071"
      },
      "execution_count": null,
      "outputs": [
        {
          "output_type": "stream",
          "name": "stdout",
          "text": [
            "['apple', 'banana', 'cherry', 'date']\n"
          ]
        }
      ]
    },
    {
      "cell_type": "markdown",
      "source": [
        "**List String User Input**"
      ],
      "metadata": {
        "id": "SNxjyxGRhHyR"
      }
    },
    {
      "cell_type": "code",
      "source": [
        "fruits = input().split()\n",
        "print(fruits)"
      ],
      "metadata": {
        "colab": {
          "base_uri": "https://localhost:8080/"
        },
        "id": "8iCkVx2lhN-t",
        "outputId": "d2db592e-c928-434b-e948-7d6f272173b4"
      },
      "execution_count": null,
      "outputs": [
        {
          "output_type": "stream",
          "name": "stdout",
          "text": [
            "manu ramu sara\n",
            "['manu', 'ramu', 'sara']\n"
          ]
        }
      ]
    },
    {
      "cell_type": "markdown",
      "source": [
        "List Integer User Input\n",
        "\n",
        "\n",
        "If you want to take a list of numbers as input, you need to convert each input from a string to an integer."
      ],
      "metadata": {
        "id": "nHA8Aag4hg9N"
      }
    },
    {
      "cell_type": "code",
      "source": [
        "no = list(map(int, input().split()))\n",
        "print(no)"
      ],
      "metadata": {
        "id": "8xfY0BNTkH5-"
      },
      "execution_count": null,
      "outputs": []
    },
    {
      "cell_type": "markdown",
      "source": [
        "**Loops**\n",
        "\n",
        "\n",
        "A loop in programming is like doing something over and over again until you're satisfied.\n",
        "You get to pick what you want to do and how many times you want to do it."
      ],
      "metadata": {
        "id": "Gc9DQzpMkNES"
      }
    },
    {
      "cell_type": "code",
      "source": [
        "print(1)\n",
        "print(2)\n",
        "print(3)"
      ],
      "metadata": {
        "colab": {
          "base_uri": "https://localhost:8080/"
        },
        "id": "mGP7Pjktkm3n",
        "outputId": "60a7317a-61bb-4db7-ef77-63a522acd96c"
      },
      "execution_count": 66,
      "outputs": [
        {
          "output_type": "stream",
          "name": "stdout",
          "text": [
            "1\n",
            "2\n",
            "3\n"
          ]
        }
      ]
    },
    {
      "cell_type": "markdown",
      "source": [
        "While Loop\n",
        "\n",
        "LOOPS can execute a block of code as long as a specified condition is reached.\n",
        "They are handy because they save time, reduce errors, and they make code more readable."
      ],
      "metadata": {
        "id": "nyiVo3TjkzF3"
      }
    },
    {
      "cell_type": "code",
      "source": [
        "while (condition):\n",
        "    // code to be executed"
      ],
      "metadata": {
        "id": "taqKNh7Ek1aF"
      },
      "execution_count": null,
      "outputs": []
    },
    {
      "cell_type": "code",
      "source": [
        "a = 0\n",
        "while a<7:\n",
        "  print(a)\n",
        "  a = a+1\n"
      ],
      "metadata": {
        "colab": {
          "base_uri": "https://localhost:8080/"
        },
        "id": "L2kr49AYk66k",
        "outputId": "01aac190-1e09-46ee-d469-3c5665c32352"
      },
      "execution_count": 68,
      "outputs": [
        {
          "output_type": "stream",
          "name": "stdout",
          "text": [
            "0\n",
            "1\n",
            "2\n",
            "3\n",
            "4\n",
            "5\n",
            "6\n"
          ]
        }
      ]
    },
    {
      "cell_type": "code",
      "source": [
        "a = 5\n",
        "\n",
        "while a<=20:\n",
        "  print(a)\n",
        "  a = a+1"
      ],
      "metadata": {
        "colab": {
          "base_uri": "https://localhost:8080/"
        },
        "id": "x55FBFjelop_",
        "outputId": "c65caeb4-2dff-40e9-f5c8-248ccef2e616"
      },
      "execution_count": 69,
      "outputs": [
        {
          "output_type": "stream",
          "name": "stdout",
          "text": [
            "5\n",
            "6\n",
            "7\n",
            "8\n",
            "9\n",
            "10\n",
            "11\n",
            "12\n",
            "13\n",
            "14\n",
            "15\n",
            "16\n",
            "17\n",
            "18\n",
            "19\n",
            "20\n"
          ]
        }
      ]
    },
    {
      "cell_type": "code",
      "source": [
        "a = 10\n",
        "while a>=1:\n",
        "  print(a)\n",
        "  a=a-1"
      ],
      "metadata": {
        "colab": {
          "base_uri": "https://localhost:8080/"
        },
        "id": "tYuCFWS0l_xm",
        "outputId": "fcc5a2e5-2c58-4684-8c4b-7b468487de03"
      },
      "execution_count": 72,
      "outputs": [
        {
          "output_type": "stream",
          "name": "stdout",
          "text": [
            "10\n",
            "9\n",
            "8\n",
            "7\n",
            "6\n",
            "5\n",
            "4\n",
            "3\n",
            "2\n",
            "1\n"
          ]
        }
      ]
    },
    {
      "cell_type": "code",
      "source": [
        "n = 128\n",
        "i = 2\n",
        "\n",
        "while i <= n:\n",
        "    print(i)\n",
        "    i = i*2"
      ],
      "metadata": {
        "colab": {
          "base_uri": "https://localhost:8080/"
        },
        "id": "_PyOubhMmcwH",
        "outputId": "58eb1d8e-2b71-49b6-f57e-da92d92c8166"
      },
      "execution_count": 73,
      "outputs": [
        {
          "output_type": "stream",
          "name": "stdout",
          "text": [
            "2\n",
            "4\n",
            "8\n",
            "16\n",
            "32\n",
            "64\n",
            "128\n"
          ]
        }
      ]
    },
    {
      "cell_type": "code",
      "source": [
        "num = int(input())\n",
        "a = 0\n",
        "\n",
        "while a < num:\n",
        "    print(a)\n",
        "    a = a + 1"
      ],
      "metadata": {
        "colab": {
          "base_uri": "https://localhost:8080/"
        },
        "id": "8_dr8GrlmiQJ",
        "outputId": "3e18873a-5b3c-461d-8be5-9cae9aacf5e9"
      },
      "execution_count": 74,
      "outputs": [
        {
          "output_type": "stream",
          "name": "stdout",
          "text": [
            "5\n",
            "0\n",
            "1\n",
            "2\n",
            "3\n",
            "4\n"
          ]
        }
      ]
    },
    {
      "cell_type": "markdown",
      "source": [
        "For Loop\n",
        "\n",
        "When you know exactly how many times you want to loop through a block of code, use the for loop instead of while loop.\n",
        "FOR loop in Python is designed to iterate over a sequence of elements, such as a list, string, or range of numbers."
      ],
      "metadata": {
        "id": "2gRxC87Ym0lL"
      }
    },
    {
      "cell_type": "code",
      "source": [
        "numbers = [1, 6, 4, 3, 2, 5]\n",
        "\n",
        "for i in numbers:\n",
        "    print(i)"
      ],
      "metadata": {
        "colab": {
          "base_uri": "https://localhost:8080/"
        },
        "id": "Gg_w-Rb-m51O",
        "outputId": "01b0643e-e22e-4d6e-93bd-1265c76813d9"
      },
      "execution_count": 75,
      "outputs": [
        {
          "output_type": "stream",
          "name": "stdout",
          "text": [
            "1\n",
            "6\n",
            "4\n",
            "3\n",
            "2\n",
            "5\n"
          ]
        }
      ]
    },
    {
      "cell_type": "markdown",
      "source": [
        "Write a program which does the following:\n",
        "\n",
        "You are given a string containing some occurrences of the alphabet 'o'\n",
        "\n",
        "Count how many o's are present in the string using a 'for' loop and 'if' condition and print the count."
      ],
      "metadata": {
        "id": "oSJrM4WGni62"
      }
    },
    {
      "cell_type": "code",
      "source": [
        "s = \"manohar\"\n",
        "\n",
        "c = 0\n",
        "\n",
        "for i in s:\n",
        "  if i == 'a':\n",
        "    c=c+1\n",
        "print(c)"
      ],
      "metadata": {
        "colab": {
          "base_uri": "https://localhost:8080/"
        },
        "id": "-HkWucavnliu",
        "outputId": "ca30bcc4-b115-4db6-aec0-9a94e0870126"
      },
      "execution_count": 76,
      "outputs": [
        {
          "output_type": "stream",
          "name": "stdout",
          "text": [
            "2\n"
          ]
        }
      ]
    },
    {
      "cell_type": "markdown",
      "source": [
        "Range of numbers\n",
        "\n",
        "In Python, you can use a for loop to iterate over a sequence of numbers.\n",
        "The Range() function helps generate this sequence, allowing you to define where to start, where to stop, and how much to increment by."
      ],
      "metadata": {
        "id": "dfMqTRcNoSFD"
      }
    },
    {
      "cell_type": "code",
      "source": [
        "for i in range(start, stop, step):\n",
        "    # do something"
      ],
      "metadata": {
        "id": "Iyc5yAV9oWIg"
      },
      "execution_count": null,
      "outputs": []
    },
    {
      "cell_type": "code",
      "source": [
        "for i in range(5, 10, 2):\n",
        "    print(i)"
      ],
      "metadata": {
        "colab": {
          "base_uri": "https://localhost:8080/"
        },
        "id": "Um2P0PcqobN-",
        "outputId": "055b4ac7-3caa-47e4-8f00-36ee43547ebf"
      },
      "execution_count": 79,
      "outputs": [
        {
          "output_type": "stream",
          "name": "stdout",
          "text": [
            "5\n",
            "7\n",
            "9\n"
          ]
        }
      ]
    },
    {
      "cell_type": "code",
      "source": [
        "for i in range(30, 4, -1):\n",
        "    print(i)"
      ],
      "metadata": {
        "colab": {
          "base_uri": "https://localhost:8080/"
        },
        "id": "4j4sA-rkoyfp",
        "outputId": "36ba66f8-d1f4-4af5-ca71-06ce7e3b6b2c"
      },
      "execution_count": 80,
      "outputs": [
        {
          "output_type": "stream",
          "name": "stdout",
          "text": [
            "30\n",
            "29\n",
            "28\n",
            "27\n",
            "26\n",
            "25\n",
            "24\n",
            "23\n",
            "22\n",
            "21\n",
            "20\n",
            "19\n",
            "18\n",
            "17\n",
            "16\n",
            "15\n",
            "14\n",
            "13\n",
            "12\n",
            "11\n",
            "10\n",
            "9\n",
            "8\n",
            "7\n",
            "6\n",
            "5\n"
          ]
        }
      ]
    },
    {
      "cell_type": "code",
      "source": [
        "for i in range(1, 5):\n",
        "  print(i)"
      ],
      "metadata": {
        "colab": {
          "base_uri": "https://localhost:8080/"
        },
        "id": "KGKW2-ebo6fy",
        "outputId": "2ab97afa-958e-44f4-bb84-b6d5446a4cc5"
      },
      "execution_count": 81,
      "outputs": [
        {
          "output_type": "stream",
          "name": "stdout",
          "text": [
            "1\n",
            "2\n",
            "3\n",
            "4\n"
          ]
        }
      ]
    },
    {
      "cell_type": "code",
      "source": [
        "for i in range(5):\n",
        "  print(i)"
      ],
      "metadata": {
        "colab": {
          "base_uri": "https://localhost:8080/"
        },
        "id": "5nUDlaN7pEGN",
        "outputId": "ecef286a-ce4a-4236-d47a-540c0f775130"
      },
      "execution_count": 82,
      "outputs": [
        {
          "output_type": "stream",
          "name": "stdout",
          "text": [
            "0\n",
            "1\n",
            "2\n",
            "3\n",
            "4\n"
          ]
        }
      ]
    },
    {
      "cell_type": "code",
      "source": [
        "n = int(input())\n",
        "\n",
        "for i in range(1,5):\n",
        "  print(n, \"X\", i, \"=\", n*i)"
      ],
      "metadata": {
        "colab": {
          "base_uri": "https://localhost:8080/"
        },
        "id": "wGw79Pd9pO3e",
        "outputId": "c2555afc-733f-4942-b3b5-884d93457af7"
      },
      "execution_count": 84,
      "outputs": [
        {
          "output_type": "stream",
          "name": "stdout",
          "text": [
            "26\n",
            "26 X 1 = 26\n",
            "26 X 2 = 52\n",
            "26 X 3 = 78\n",
            "26 X 4 = 104\n"
          ]
        }
      ]
    },
    {
      "cell_type": "markdown",
      "source": [
        "Factorial of any number\n",
        "\n",
        "Write a program that does the following\n",
        "\n",
        "Declare an integer variable num and initialize it to a user defined input\n",
        "\n",
        "Output to the console the factorial of num\n",
        "\n",
        "Remember to use loops for this problem\n",
        "\n",
        "Factorial of a number n is the product of all the numbers from 1 to n\n",
        "\n",
        "Factorial of a number(n) = n × (n-1) × ... 2 × 1"
      ],
      "metadata": {
        "id": "UiB4FUL0p_to"
      }
    },
    {
      "cell_type": "code",
      "source": [
        "n = int(input())\n",
        "\n",
        "i = 1\n",
        "f = 1\n",
        "\n",
        "while i<=n:\n",
        "  f = i * f\n",
        "  i = i+1\n",
        "\n",
        "print(f)"
      ],
      "metadata": {
        "colab": {
          "base_uri": "https://localhost:8080/"
        },
        "id": "ResRxdkYqHc7",
        "outputId": "303f20cc-0680-4743-ab93-e31d7701081d"
      },
      "execution_count": 85,
      "outputs": [
        {
          "output_type": "stream",
          "name": "stdout",
          "text": [
            "3\n",
            "6\n"
          ]
        }
      ]
    },
    {
      "cell_type": "markdown",
      "source": [
        "Sum of N Integers\n",
        "\n",
        "Chef was given an integer input N.\n",
        "\n",
        "\n",
        "He wants to write a code using while loops to output the sum of all integers from 1 to N."
      ],
      "metadata": {
        "id": "iW9GRvu79t1k"
      }
    },
    {
      "cell_type": "code",
      "source": [
        "n = int(input())\n",
        "\n",
        "s = 0\n",
        "\n",
        "i = 1\n",
        "\n",
        "while i <= n:\n",
        "  s = s + i\n",
        "  i = i+ 1\n",
        "print(s)"
      ],
      "metadata": {
        "colab": {
          "base_uri": "https://localhost:8080/"
        },
        "id": "Tl84RGkP9f-6",
        "outputId": "28a18080-5712-4964-afa9-7eb65273f6a0"
      },
      "execution_count": 1,
      "outputs": [
        {
          "output_type": "stream",
          "name": "stdout",
          "text": [
            "3\n",
            "6\n"
          ]
        }
      ]
    },
    {
      "cell_type": "markdown",
      "source": [
        "given an integer input N.\n",
        "\n",
        "He wrote a code using WHILE loops to output the factorial of N.\n",
        "\n",
        "\n"
      ],
      "metadata": {
        "id": "yXIzE9As-gCl"
      }
    },
    {
      "cell_type": "code",
      "source": [
        "n = int(input())\n",
        "\n",
        "f = 1\n",
        "i = 1\n",
        "\n",
        "while i <= n:\n",
        "  f = f * i\n",
        "  i = i + 1\n",
        "print(f)"
      ],
      "metadata": {
        "colab": {
          "base_uri": "https://localhost:8080/"
        },
        "id": "Mz-BHqY0-kpk",
        "outputId": "3c2817b8-fdbe-4fb2-bf72-4eba65ecee54"
      },
      "execution_count": 3,
      "outputs": [
        {
          "output_type": "stream",
          "name": "stdout",
          "text": [
            "6\n",
            "720\n"
          ]
        }
      ]
    },
    {
      "cell_type": "markdown",
      "source": [
        "find the number of digits in the given integer."
      ],
      "metadata": {
        "id": "mtETFr5h_VHD"
      }
    },
    {
      "cell_type": "code",
      "source": [
        "n = int(input())\n",
        "\n",
        "c = 0\n",
        "\n",
        "while n != 0:\n",
        "  c=c+1\n",
        "  n=n//10\n",
        "print(c)\n",
        "\n"
      ],
      "metadata": {
        "colab": {
          "base_uri": "https://localhost:8080/"
        },
        "id": "Xqh77Oda_WOm",
        "outputId": "96d76faf-d8d0-42d1-b49d-d8266f40b46a"
      },
      "execution_count": 4,
      "outputs": [
        {
          "output_type": "stream",
          "name": "stdout",
          "text": [
            "50\n",
            "2\n"
          ]
        }
      ]
    },
    {
      "cell_type": "code",
      "source": [
        "120\n",
        "\n",
        "num != 0\n",
        " c=1\n",
        " n = n//10\n",
        " n=12\n",
        "\n",
        " 12 != 0\n",
        " c=2\n",
        " 12//10\n",
        "\n",
        " n=1\n",
        "\n",
        " 1!=0\n",
        " c=3\n",
        " 1//10\n",
        ""
      ],
      "metadata": {
        "id": "3O95V32HAIj8"
      },
      "execution_count": null,
      "outputs": []
    },
    {
      "cell_type": "markdown",
      "source": [
        "write a code which checks if a given number is prime.\n",
        "\n",
        "You are given an integer N\n",
        "\n",
        "You need to output 'Yes' or 'No' depending on whether the number is prime or not."
      ],
      "metadata": {
        "id": "UbltkS8SAyeP"
      }
    },
    {
      "cell_type": "code",
      "source": [
        "n = int(input())\n",
        "\n",
        "pri = True\n",
        "\n",
        "i = 2\n",
        "\n",
        "while i < n:\n",
        "  if n%i ==0:\n",
        "    pri = False\n",
        "  i=i+1\n",
        "if pri:\n",
        "  print('Yes')\n",
        "else:\n",
        "  print('No')"
      ],
      "metadata": {
        "colab": {
          "base_uri": "https://localhost:8080/"
        },
        "id": "YAmZplhGA20N",
        "outputId": "bcd01550-4442-4ed8-966c-c7bfdec33bdd"
      },
      "execution_count": 5,
      "outputs": [
        {
          "output_type": "stream",
          "name": "stdout",
          "text": [
            "11\n",
            "Yes\n"
          ]
        }
      ]
    },
    {
      "cell_type": "markdown",
      "source": [
        "You are given an integer N.\n",
        "\n",
        "You need to output the sum of all even integers from 1 to N."
      ],
      "metadata": {
        "id": "SXbBG9iqD69m"
      }
    },
    {
      "cell_type": "code",
      "source": [
        "n = int(input())\n",
        "\n",
        "s= 0\n",
        "\n",
        "for i in range(1, n+1):\n",
        "  if i % 2 ==0:\n",
        "    s= s+i\n",
        "print(s)"
      ],
      "metadata": {
        "colab": {
          "base_uri": "https://localhost:8080/"
        },
        "id": "IACRxzh1Bc8L",
        "outputId": "a771e07b-c433-4bfe-c2af-6596b19a95b9"
      },
      "execution_count": 7,
      "outputs": [
        {
          "output_type": "stream",
          "name": "stdout",
          "text": [
            "5\n",
            "6\n"
          ]
        }
      ]
    },
    {
      "cell_type": "code",
      "source": [
        "5\n",
        "\n",
        "s=0\n",
        "\n",
        "1,6\n",
        "\n",
        "i=1\n",
        "\n",
        "1%2==0\n",
        "\n",
        "i=2\n",
        "\n",
        "2%2==0\n",
        "\n",
        "s=0+2\n",
        "\n",
        "i=3\n",
        "i=4\n",
        "\n",
        "s=2+4\n",
        "\n",
        "s=6\n"
      ],
      "metadata": {
        "id": "Lg6ajp1fFDnh"
      },
      "execution_count": null,
      "outputs": []
    },
    {
      "cell_type": "code",
      "source": [
        "n, m = map(int, input().split())\n",
        "\n",
        "r = 1\n",
        "\n",
        "for i in range(m):\n",
        "  r = n*r\n",
        "print(r)"
      ],
      "metadata": {
        "colab": {
          "base_uri": "https://localhost:8080/"
        },
        "id": "rse7b3rLGGah",
        "outputId": "68ba9d44-af96-4df8-8bfd-a1b7d11dbcc7"
      },
      "execution_count": 8,
      "outputs": [
        {
          "output_type": "stream",
          "name": "stdout",
          "text": [
            "2 3\n",
            "8\n"
          ]
        }
      ]
    },
    {
      "cell_type": "code",
      "source": [
        "i = 0\n",
        "while i <= 5:\n",
        "    print(\"Python\")\n",
        "    i = i + 2"
      ],
      "metadata": {
        "colab": {
          "base_uri": "https://localhost:8080/"
        },
        "id": "0m5rFAQsG9nr",
        "outputId": "ed982467-b321-4ae7-bc06-371c0d711955"
      },
      "execution_count": 10,
      "outputs": [
        {
          "output_type": "stream",
          "name": "stdout",
          "text": [
            "Python\n",
            "Python\n",
            "Python\n"
          ]
        }
      ]
    },
    {
      "cell_type": "markdown",
      "source": [
        "Break Statement\n",
        "\n",
        "The break statement is a control statement in Python that allows you to exit a loop prematurely.\n",
        "\n",
        "When the break statement is encountered inside a loop, the loop is immediately terminated\n",
        "\n",
        "The program execution continues with the next statement after the loop"
      ],
      "metadata": {
        "id": "07ZAvdCmHTnQ"
      }
    },
    {
      "cell_type": "code",
      "source": [
        "fruits = [\"apple\", \"banana\", \"orange\", \"grape\"]\n",
        "\n",
        "for item in fruits:\n",
        "    if item == \"orange\":\n",
        "        break\n",
        "    print(item)"
      ],
      "metadata": {
        "id": "FaKg9WuqHZOT"
      },
      "execution_count": null,
      "outputs": []
    },
    {
      "cell_type": "code",
      "source": [
        "days = [30, 31, 30, 30, 31, 30, 20, 30, 31, 30, 31, 30]\n",
        "\n",
        "for day in days:\n",
        "    print(day)\n",
        "    if day < 30:\n",
        "        break"
      ],
      "metadata": {
        "colab": {
          "base_uri": "https://localhost:8080/"
        },
        "id": "FV37XUSrHlmf",
        "outputId": "9234897f-3309-4f16-d1f3-fd960f0f2485"
      },
      "execution_count": 11,
      "outputs": [
        {
          "output_type": "stream",
          "name": "stdout",
          "text": [
            "30\n",
            "31\n",
            "30\n",
            "30\n",
            "31\n",
            "30\n",
            "20\n"
          ]
        }
      ]
    },
    {
      "cell_type": "markdown",
      "source": [
        "Continue Statement\n",
        "\n",
        "Recall that break exits the loop entirely when its condition is met - ignoring all subsequent iterations.\n",
        "\n",
        "The continue statement skips one iteration (in the loop), if a specified condition occurs, and continues with the next iteration in the loop."
      ],
      "metadata": {
        "id": "lnCgBNwFHxYO"
      }
    },
    {
      "cell_type": "code",
      "source": [
        "numbers = [1, 2, 3, 4, 5, 6, 7, 8, 9, 10]\n",
        "\n",
        "for number in numbers:\n",
        "    if number % 2 == 0:\n",
        "        continue\n",
        "    print(number)"
      ],
      "metadata": {
        "colab": {
          "base_uri": "https://localhost:8080/"
        },
        "id": "XChsC9UEH0ic",
        "outputId": "de82b914-3033-4c63-f07a-17844bf1d9eb"
      },
      "execution_count": 12,
      "outputs": [
        {
          "output_type": "stream",
          "name": "stdout",
          "text": [
            "1\n",
            "3\n",
            "5\n",
            "7\n",
            "9\n"
          ]
        }
      ]
    },
    {
      "cell_type": "code",
      "source": [
        "n = int(input())\n",
        "\n",
        "for i in range(1, 11):\n",
        "    if i == n:\n",
        "        continue\n",
        "    print(i)\n",
        ""
      ],
      "metadata": {
        "colab": {
          "base_uri": "https://localhost:8080/"
        },
        "id": "IOJ33JWRH_9_",
        "outputId": "b079beb4-197a-4aa2-9339-66a7e098734f"
      },
      "execution_count": 14,
      "outputs": [
        {
          "output_type": "stream",
          "name": "stdout",
          "text": [
            "5\n",
            "1\n",
            "2\n",
            "3\n",
            "4\n",
            "6\n",
            "7\n",
            "8\n",
            "9\n",
            "10\n"
          ]
        }
      ]
    },
    {
      "cell_type": "code",
      "source": [
        "for i in range(1, 11):\n",
        "    print(i, end=\" \")\n",
        "    if i%2 == 0:\n",
        "         continue\n",
        "    print(i, end=\" \")"
      ],
      "metadata": {
        "colab": {
          "base_uri": "https://localhost:8080/"
        },
        "id": "ti_hts1lIRLZ",
        "outputId": "e3fbcf14-8d27-410b-ff3c-6cf72a4054ed"
      },
      "execution_count": 19,
      "outputs": [
        {
          "output_type": "stream",
          "name": "stdout",
          "text": [
            "1 1 2 3 3 4 5 5 6 7 7 8 9 9 10 "
          ]
        }
      ]
    },
    {
      "cell_type": "markdown",
      "source": [
        "Nested loops\n",
        "\n",
        "We learned about For and While loops.\n",
        "\n",
        "Let's discuss Nested loops.\n",
        "\n",
        "Nested loops are a powerful programming construct where one loop is placed inside another loop."
      ],
      "metadata": {
        "id": "3_N6Mu-LKUec"
      }
    },
    {
      "cell_type": "code",
      "source": [
        "n = int(input())\n",
        "\n",
        "i = 1\n",
        "while i<=n:\n",
        "    j = 1\n",
        "    while j<=i:\n",
        "        print(\"*\", end=' ')\n",
        "        j = j+1\n",
        "    print()\n",
        "    i = i+1"
      ],
      "metadata": {
        "id": "xG-W7454Ka84"
      },
      "execution_count": null,
      "outputs": []
    },
    {
      "cell_type": "code",
      "source": [
        "3\n",
        "* * *\n",
        "* * *\n",
        "* * *"
      ],
      "metadata": {
        "id": "5efeOP8UKczO"
      },
      "execution_count": null,
      "outputs": []
    },
    {
      "cell_type": "code",
      "source": [
        "n = int(input())\n",
        "\n",
        "i = 0\n",
        "\n",
        "while i< n:\n",
        "  j = 0\n",
        "  while j < n:\n",
        "    print(\"*\", end=' ')\n",
        "    j = j+1\n",
        "  print()\n",
        "  i= i+1"
      ],
      "metadata": {
        "colab": {
          "base_uri": "https://localhost:8080/"
        },
        "id": "UlIj_8_2NAOR",
        "outputId": "ef38c612-9c7b-4611-c4ff-450f45020c14"
      },
      "execution_count": 20,
      "outputs": [
        {
          "output_type": "stream",
          "name": "stdout",
          "text": [
            "3\n",
            "* * * \n",
            "* * * \n",
            "* * * \n"
          ]
        }
      ]
    },
    {
      "cell_type": "code",
      "source": [
        "n = int(input())\n",
        "\n",
        "i = 1\n",
        "\n",
        "while i<=n:\n",
        "  j=1\n",
        "  while j<=i:\n",
        "    print(j, end=' ')\n",
        "    j=j+1\n",
        "  print()\n",
        "  i=i+1"
      ],
      "metadata": {
        "colab": {
          "base_uri": "https://localhost:8080/"
        },
        "id": "zDwUO2z2N23b",
        "outputId": "97f85a81-1053-4c1b-cd84-d99cd5b59bf1"
      },
      "execution_count": 21,
      "outputs": [
        {
          "output_type": "stream",
          "name": "stdout",
          "text": [
            "4\n",
            "1 \n",
            "1 2 \n",
            "1 2 3 \n",
            "1 2 3 4 \n"
          ]
        }
      ]
    },
    {
      "cell_type": "markdown",
      "source": [
        "**Functions**\n",
        "\n",
        "Why we need functions"
      ],
      "metadata": {
        "id": "VFhbm_dyWYWk"
      }
    },
    {
      "cell_type": "code",
      "source": [
        "two = 2\n",
        "three = 3\n",
        "four = 4\n",
        "\n",
        "print(two ** 2)\n",
        "print(two ** 3)\n",
        "\n",
        "print(three ** 2)\n",
        "print(three ** 3)\n",
        "\n",
        "print(four ** 2)\n",
        "print(four ** 3)\n"
      ],
      "metadata": {
        "colab": {
          "base_uri": "https://localhost:8080/"
        },
        "id": "QPD5iym2WdL6",
        "outputId": "9892e555-4546-4f34-a04b-8c033cc8a7a3"
      },
      "execution_count": 22,
      "outputs": [
        {
          "output_type": "stream",
          "name": "stdout",
          "text": [
            "4\n",
            "8\n",
            "9\n",
            "27\n",
            "16\n",
            "64\n"
          ]
        }
      ]
    },
    {
      "cell_type": "code",
      "source": [
        "def power(n):\n",
        "  s = n ** 2\n",
        "  c = n ** 3\n",
        "  print(s)\n",
        "  print(c)\n",
        "\n",
        "power(6)"
      ],
      "metadata": {
        "colab": {
          "base_uri": "https://localhost:8080/"
        },
        "id": "9dfrh2PdWm1k",
        "outputId": "0a8eef0e-b679-4b55-f813-1ab95a6084f1"
      },
      "execution_count": 23,
      "outputs": [
        {
          "output_type": "stream",
          "name": "stdout",
          "text": [
            "36\n",
            "216\n"
          ]
        }
      ]
    },
    {
      "cell_type": "markdown",
      "source": [
        "Anatomy of a function\n",
        "\n",
        "Let us breakdown the structure of a function.\n",
        "\n",
        " def function_name(parameters):\n",
        "\n",
        "    Function body (code block)\n",
        "     ...\n",
        "    return result  # Optional return statement\n",
        "\n",
        "\n",
        "def: Keyword to define a function.\n",
        "\n",
        "function_name: Name of the function (should be descriptive).\n",
        "\n",
        "parameters: Inputs that the function accepts (can be optional).\n",
        "\n",
        "Function body: Code block where the function performs its task.\n",
        "\n",
        "return: Optional statement to return a value from the function."
      ],
      "metadata": {
        "id": "hgOllMKAXO0K"
      }
    },
    {
      "cell_type": "markdown",
      "source": [
        "Return values\n",
        "\n",
        "Functions in Python can serve two primary purposes when it comes to providing information to the caller: they can either return a value or print an output."
      ],
      "metadata": {
        "id": "y1nNv409X7Sa"
      }
    },
    {
      "cell_type": "markdown",
      "source": [
        "Returning Values from Functions:\n",
        "\n",
        "When a function returns a value, it's providing a piece of data back to the caller.\n",
        "This data can be used for further processing, assignment to variables, or any other purpose within the program. The return statement is used to send a value back to the caller."
      ],
      "metadata": {
        "id": "1fPrscw7X-_6"
      }
    },
    {
      "cell_type": "code",
      "source": [
        "def calculate_square(num):\n",
        "    square_result = num * num\n",
        "    return square_result\n",
        "\n",
        "# Calling the function and capturing the return value\n",
        "result = calculate_square(5)\n",
        "\n",
        "print(\"Square of 5:\", result)"
      ],
      "metadata": {
        "id": "7eg38Y13YDVK"
      },
      "execution_count": 28,
      "outputs": []
    },
    {
      "cell_type": "code",
      "source": [
        "def add(a,b):\n",
        "  return a+b\n",
        "\n",
        "h=8\n",
        "j=9\n",
        "add(h,j)\n"
      ],
      "metadata": {
        "id": "9IseaLiaY5c8",
        "outputId": "e2068aa7-e487-48bc-9177-d0829db5ecc9",
        "colab": {
          "base_uri": "https://localhost:8080/"
        }
      },
      "execution_count": 31,
      "outputs": [
        {
          "output_type": "execute_result",
          "data": {
            "text/plain": [
              "17"
            ]
          },
          "metadata": {},
          "execution_count": 31
        }
      ]
    },
    {
      "cell_type": "markdown",
      "source": [
        "Variable scope\n",
        "\n",
        "Scope in Python can be broadly categorized into two types: global scope and local scope"
      ],
      "metadata": {
        "id": "7p9Yg1PxZhXx"
      }
    },
    {
      "cell_type": "markdown",
      "source": [
        "Global scope\n",
        "\n",
        "Variables defined outside of any function have global scope.\n",
        "\n",
        "These variables can be accessed from anywhere in the code, both inside and outside functions."
      ],
      "metadata": {
        "id": "4_Mon4D5ZjKG"
      }
    },
    {
      "cell_type": "code",
      "source": [
        "a = 20\n",
        "\n",
        "def pri():\n",
        "  print(a)\n",
        "\n",
        "print(a)\n",
        "\n",
        "pri()"
      ],
      "metadata": {
        "id": "PKQwzP-0Zmd2",
        "outputId": "07b540e3-5aa9-4534-fb4f-17bd155abd18",
        "colab": {
          "base_uri": "https://localhost:8080/"
        }
      },
      "execution_count": 32,
      "outputs": [
        {
          "output_type": "stream",
          "name": "stdout",
          "text": [
            "20\n",
            "20\n"
          ]
        }
      ]
    },
    {
      "cell_type": "markdown",
      "source": [
        "Local scope\n",
        "\n",
        "Variables defined within a function have local scope, meaning they are accessible only within that function.\n",
        "\n",
        "Local scope is limited to the function where the variable is defined."
      ],
      "metadata": {
        "id": "N1UAqORQaC2_"
      }
    },
    {
      "cell_type": "code",
      "source": [
        "def pri():\n",
        "  n=20\n",
        "  print(n)\n",
        "\n",
        "print(pri)\n",
        "pri()"
      ],
      "metadata": {
        "id": "8fjXWxAKaFjR",
        "outputId": "c9f8908d-7b00-452e-b149-7d9de3931244",
        "colab": {
          "base_uri": "https://localhost:8080/"
        }
      },
      "execution_count": 34,
      "outputs": [
        {
          "output_type": "stream",
          "name": "stdout",
          "text": [
            "<function pri at 0x7feb0571ef80>\n",
            "20\n"
          ]
        }
      ]
    },
    {
      "cell_type": "markdown",
      "source": [
        "Calling a function within function\n",
        "\n",
        "Functions can also call other functions in Python."
      ],
      "metadata": {
        "id": "cezMbi6CasKF"
      }
    },
    {
      "cell_type": "code",
      "source": [
        "def greet(name):\n",
        "    return f\"Hello, {name}!\"\n",
        "\n",
        "def capitalize(text):\n",
        "    return text.upper()\n",
        "\n",
        "# Solution as follows\n",
        "def greet_and_capitalize(name):\n",
        "    greeting = greet(name)\n",
        "    return capitalize(greeting)\n",
        "\n",
        "# Call the functions\n",
        "name = \"Alice\"\n",
        "final_result = greet_and_capitalize(name)\n",
        "\n",
        "# Display the results\n",
        "print(\"Final Result:\", final_result)"
      ],
      "metadata": {
        "id": "muXKfHC4ate8",
        "outputId": "b71d712c-b1da-4aa7-f238-db15ab646cf2",
        "colab": {
          "base_uri": "https://localhost:8080/"
        }
      },
      "execution_count": 35,
      "outputs": [
        {
          "output_type": "stream",
          "name": "stdout",
          "text": [
            "Final Result: HELLO, ALICE!\n"
          ]
        }
      ]
    },
    {
      "cell_type": "code",
      "source": [
        "def outer_function(x):\n",
        "    def inner_function(y):\n",
        "        return x * y\n",
        "\n",
        "    result = inner_function(x)\n",
        "    return result\n",
        "\n",
        "# Calling the function\n",
        "output = outer_function(5)\n",
        "print(output)"
      ],
      "metadata": {
        "id": "49Wc9ujQbPx0",
        "outputId": "87382ffc-5f7d-43bc-cd86-4b7ffbd12a34",
        "colab": {
          "base_uri": "https://localhost:8080/"
        }
      },
      "execution_count": 36,
      "outputs": [
        {
          "output_type": "stream",
          "name": "stdout",
          "text": [
            "25\n"
          ]
        }
      ]
    },
    {
      "cell_type": "code",
      "source": [
        "tuple = (1,4,5,5,6,9)\n",
        "\n",
        "tuple1= (2,4,5, [3,5,6],5,[34,45,6])\n",
        "\n",
        "print(tuple)\n",
        "print(len(tuple))\n",
        "print(tuple.count(5))\n",
        "\n",
        "print(tuple1)\n",
        "print(len(tuple1))\n",
        "print(tuple1.count(5))\n",
        "\n",
        "print(tuple[2])"
      ],
      "metadata": {
        "id": "1AZeEAB_cHvT",
        "outputId": "efb3331d-c5a0-4cc3-cd44-88ddabb082e0",
        "colab": {
          "base_uri": "https://localhost:8080/"
        }
      },
      "execution_count": 41,
      "outputs": [
        {
          "output_type": "stream",
          "name": "stdout",
          "text": [
            "(1, 4, 5, 5, 6, 9)\n",
            "6\n",
            "2\n",
            "(2, 4, 5, [3, 5, 6], 5, [34, 45, 6])\n",
            "6\n",
            "2\n",
            "5\n"
          ]
        }
      ]
    },
    {
      "cell_type": "markdown",
      "source": [
        "Dictionary\n",
        "\n",
        "A dictionary is an unordered collection of data in a key-value pair format.\n",
        "\n",
        "Each value in a dictionary is accessed using a unique key."
      ],
      "metadata": {
        "id": "W6rVAlsqdHCb"
      }
    },
    {
      "cell_type": "code",
      "source": [
        "n = {\"key\":\"value\",\"key\":\"value2\"}\n",
        "\n",
        "print(n)\n",
        "print(n[\"key\"])"
      ],
      "metadata": {
        "id": "9kr6n8CIdL4F",
        "outputId": "ed2332d8-0c05-46ce-8a07-d9d71a013b5c",
        "colab": {
          "base_uri": "https://localhost:8080/"
        }
      },
      "execution_count": 44,
      "outputs": [
        {
          "output_type": "stream",
          "name": "stdout",
          "text": [
            "{'key': 'value2'}\n",
            "value2\n"
          ]
        }
      ]
    },
    {
      "cell_type": "markdown",
      "source": [
        "Dictionary characteristics\n",
        "\n",
        "Order: Unlike sequences (e.g., lists, tuples), dictionaries are not ordered till python versons older than 3.7. After v3.7, they are ordered.\n",
        "\n",
        "Mutable: Dictionaries can be modified (items can be added, removed, or modified).\n",
        "\n",
        "Unique: Keys in a dictionary must be unique."
      ],
      "metadata": {
        "id": "T501vzocdl3K"
      }
    },
    {
      "cell_type": "code",
      "source": [
        "n = {\"1\":\"one\", \"2\":\"two\",\"3\":\"three\"}\n",
        "\n",
        "n[\"3\"] = 4\n",
        "\n",
        "print(n)\n",
        "\n",
        "del n[\"2\"]\n",
        "\n",
        "print(n)\n",
        "\n",
        "print(n.pop(\"1\"))\n",
        "\n",
        "print(n.clear())"
      ],
      "metadata": {
        "id": "AG4cSduZd3eY",
        "outputId": "97bafe08-0749-45c3-e817-599aec3a0f1d",
        "colab": {
          "base_uri": "https://localhost:8080/"
        }
      },
      "execution_count": 51,
      "outputs": [
        {
          "output_type": "stream",
          "name": "stdout",
          "text": [
            "{'1': 'one', '2': 'two', '3': 4}\n",
            "{'1': 'one', '3': 4}\n",
            "one\n",
            "None\n"
          ]
        }
      ]
    },
    {
      "cell_type": "code",
      "source": [
        "n = {\"1\":\"one\", \"2\":\"two\",\"3\":\"three\"}\n",
        "\n",
        "for i in n:\n",
        "  print(\"key:\", i, \"value:\",n[i])"
      ],
      "metadata": {
        "id": "4qjjhwv_e_mv",
        "outputId": "5f244f13-4adc-4ebb-cb48-f7a6e47d9bb3",
        "colab": {
          "base_uri": "https://localhost:8080/"
        }
      },
      "execution_count": 52,
      "outputs": [
        {
          "output_type": "stream",
          "name": "stdout",
          "text": [
            "key: 1 value: one\n",
            "key: 2 value: two\n",
            "key: 3 value: three\n"
          ]
        }
      ]
    },
    {
      "cell_type": "code",
      "source": [
        "n = {\"1\":\"one\", \"2\":\"two\",\"3\":\"three\"}\n",
        "\n",
        "print(\"4\" in n)\n",
        "print(n.get(\"3\"))\n"
      ],
      "metadata": {
        "id": "QFxPm-x9fl3r",
        "outputId": "c155d7e1-64f6-4aa1-e4c8-a6116255fd54",
        "colab": {
          "base_uri": "https://localhost:8080/"
        }
      },
      "execution_count": 56,
      "outputs": [
        {
          "output_type": "stream",
          "name": "stdout",
          "text": [
            "False\n",
            "three\n"
          ]
        }
      ]
    },
    {
      "cell_type": "code",
      "source": [
        "n = {\n",
        "    \"1\":{\"1\":\"one\", \"2\":\"two\"},\n",
        "    \"2\":{\"6\":\"onhhe\", \"27\":\"twoikj\"}\n",
        "}\n",
        "\n",
        "print(n[\"1\"][\"1\"])\n",
        "print(n[\"2\"][\"27\"])\n",
        "\n",
        "n[\"1\"][\"1\"] = \"88\"\n",
        "\n",
        "print(n)\n",
        "\n"
      ],
      "metadata": {
        "id": "wWRz9jOIgHtW",
        "outputId": "99f276ba-7d7d-4a41-d401-8119043c0224",
        "colab": {
          "base_uri": "https://localhost:8080/"
        }
      },
      "execution_count": 62,
      "outputs": [
        {
          "output_type": "stream",
          "name": "stdout",
          "text": [
            "one\n",
            "twoikj\n",
            "{'1': {'1': '88', '2': 'two'}, '2': {'6': 'onhhe', '27': 'twoikj'}}\n"
          ]
        }
      ]
    },
    {
      "cell_type": "code",
      "source": [
        "t = int(input())\n",
        "\n",
        "# run a loop to accept 't' inputs\n",
        "for i in range(t):\n",
        "    N = int(input())\n",
        "    print(N)"
      ],
      "metadata": {
        "id": "HrUTQst9hnVL"
      },
      "execution_count": null,
      "outputs": []
    },
    {
      "cell_type": "code",
      "source": [
        "t = int(input())\n",
        "\n",
        "\n",
        "for i in range(t):\n",
        "    n = int(input())\n",
        "\n",
        "\n",
        "    print(-n)"
      ],
      "metadata": {
        "id": "SioVzzxTiv3B",
        "outputId": "8969eec6-896e-438b-9ea9-09c724791b66",
        "colab": {
          "base_uri": "https://localhost:8080/"
        }
      },
      "execution_count": 64,
      "outputs": [
        {
          "output_type": "stream",
          "name": "stdout",
          "text": [
            "1\n",
            "-7\n",
            "7\n"
          ]
        }
      ]
    },
    {
      "cell_type": "code",
      "source": [
        "t = int(input())\n",
        "for i in range(t):\n",
        "    s = input()\n",
        "    x = s + s\n",
        "    print(x)"
      ],
      "metadata": {
        "id": "MCq22gFzjKk_",
        "outputId": "bf12fc3e-5dd5-4943-db79-e876b8c9c404",
        "colab": {
          "base_uri": "https://localhost:8080/"
        }
      },
      "execution_count": 65,
      "outputs": [
        {
          "output_type": "stream",
          "name": "stdout",
          "text": [
            "1\n",
            "manu\n",
            "manumanu\n"
          ]
        }
      ]
    }
  ]
}