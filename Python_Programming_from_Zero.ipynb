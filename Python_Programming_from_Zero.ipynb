{
  "nbformat": 4,
  "nbformat_minor": 0,
  "metadata": {
    "colab": {
      "provenance": [],
      "authorship_tag": "ABX9TyMyyyhV4DrBynHsw4I48Sq2",
      "include_colab_link": true
    },
    "kernelspec": {
      "name": "python3",
      "display_name": "Python 3"
    },
    "language_info": {
      "name": "python"
    }
  },
  "cells": [
    {
      "cell_type": "markdown",
      "metadata": {
        "id": "view-in-github",
        "colab_type": "text"
      },
      "source": [
        "<a href=\"https://colab.research.google.com/github/manu14357/Programming/blob/main/Python_Programming_from_Zero.ipynb\" target=\"_parent\"><img src=\"https://colab.research.google.com/assets/colab-badge.svg\" alt=\"Open In Colab\"/></a>"
      ]
    },
    {
      "cell_type": "markdown",
      "source": [
        "Python Programming"
      ],
      "metadata": {
        "id": "uSjke7CyCvLf"
      }
    },
    {
      "cell_type": "markdown",
      "source": [
        "1. How to Add Two Numbers in Python"
      ],
      "metadata": {
        "id": "UTkpYzvfC1Xk"
      }
    },
    {
      "cell_type": "code",
      "execution_count": 1,
      "metadata": {
        "colab": {
          "base_uri": "https://localhost:8080/"
        },
        "id": "UuqbYirCCukj",
        "outputId": "a646b637-bb22-4e42-c0b1-970d1899f225"
      },
      "outputs": [
        {
          "output_type": "stream",
          "name": "stdout",
          "text": [
            "3\n"
          ]
        }
      ],
      "source": [
        "#Using Operator \"+\"\n",
        "\n",
        "a = 1\n",
        "b = 2\n",
        "print(a+b)"
      ]
    },
    {
      "cell_type": "code",
      "source": [
        "#Using User Input\n",
        "\n",
        "a = int(input(\"Enter Number:\"))\n",
        "b = int(input(\"Enter Number:\"))\n",
        "print(a+b)"
      ],
      "metadata": {
        "colab": {
          "base_uri": "https://localhost:8080/"
        },
        "id": "VosBCoEKDM-U",
        "outputId": "2d31f3f6-5b92-4d13-bd66-d2066195ecad"
      },
      "execution_count": 2,
      "outputs": [
        {
          "output_type": "stream",
          "name": "stdout",
          "text": [
            "Enter Number:1\n",
            "Enter Number:2\n",
            "3\n"
          ]
        }
      ]
    },
    {
      "cell_type": "code",
      "source": [
        "#Using Function\n",
        "\n",
        "def sum(a,b):\n",
        "  return a+b\n",
        "\n",
        "print(sum(1,2))"
      ],
      "metadata": {
        "colab": {
          "base_uri": "https://localhost:8080/"
        },
        "id": "tkt74jvYDro5",
        "outputId": "96ef00a8-20b4-42ba-cae6-493a8d2491fc"
      },
      "execution_count": 4,
      "outputs": [
        {
          "output_type": "stream",
          "name": "stdout",
          "text": [
            "3\n"
          ]
        }
      ]
    },
    {
      "cell_type": "code",
      "source": [
        "#Using Lambda Function\n",
        "\n",
        "sum = lambda a, b : a + b\n",
        "print(sum(1,2))"
      ],
      "metadata": {
        "colab": {
          "base_uri": "https://localhost:8080/"
        },
        "id": "SGb2nYPrEO3O",
        "outputId": "6a8cdc17-c269-4d42-979b-d8596b11ac31"
      },
      "execution_count": 5,
      "outputs": [
        {
          "output_type": "stream",
          "name": "stdout",
          "text": [
            "3\n"
          ]
        }
      ]
    },
    {
      "cell_type": "code",
      "source": [
        "#Using Operator .add\n",
        "\n",
        "import operator\n",
        "\n",
        "print(operator.add(1,3))"
      ],
      "metadata": {
        "colab": {
          "base_uri": "https://localhost:8080/"
        },
        "id": "PqQR-MRAEhug",
        "outputId": "68d8e1bb-6329-4c28-c38b-40e171f98d8a"
      },
      "execution_count": 6,
      "outputs": [
        {
          "output_type": "stream",
          "name": "stdout",
          "text": [
            "4\n"
          ]
        }
      ]
    },
    {
      "cell_type": "code",
      "source": [
        "#Using sum()\n",
        "\n",
        "print(sum(1,2))"
      ],
      "metadata": {
        "colab": {
          "base_uri": "https://localhost:8080/"
        },
        "id": "y4NTOVegEzSR",
        "outputId": "6349cf35-0a45-4c95-e9f6-5525e3362522"
      },
      "execution_count": 7,
      "outputs": [
        {
          "output_type": "stream",
          "name": "stdout",
          "text": [
            "3\n"
          ]
        }
      ]
    },
    {
      "cell_type": "code",
      "source": [
        "#Using Bitwise Operator\n",
        "\n",
        "a = 1\n",
        "b = 2\n",
        "print(a|b)"
      ],
      "metadata": {
        "colab": {
          "base_uri": "https://localhost:8080/"
        },
        "id": "vBl7jZHRFFZq",
        "outputId": "42038e81-9be8-4f2d-fa37-59ec8d835f75"
      },
      "execution_count": 8,
      "outputs": [
        {
          "output_type": "stream",
          "name": "stdout",
          "text": [
            "3\n"
          ]
        }
      ]
    },
    {
      "cell_type": "markdown",
      "source": [
        "2. Finding Minimun Of Two Numbers"
      ],
      "metadata": {
        "id": "lxIUZLqtFdtX"
      }
    },
    {
      "cell_type": "code",
      "source": [
        "#Using Min\n",
        "\n",
        "print(min(3, 6))"
      ],
      "metadata": {
        "colab": {
          "base_uri": "https://localhost:8080/"
        },
        "id": "ef-sFQ4LFhhw",
        "outputId": "cc713603-87fb-4bcd-d97b-a2fd16d297db"
      },
      "execution_count": 9,
      "outputs": [
        {
          "output_type": "stream",
          "name": "stdout",
          "text": [
            "3\n"
          ]
        }
      ]
    },
    {
      "cell_type": "code",
      "source": [
        "#Using Conditional Statements\n",
        "\n",
        "a, b =2,5\n",
        "\n",
        "if a < b:\n",
        "  print(a)\n",
        "else:\n",
        "  print(b)"
      ],
      "metadata": {
        "colab": {
          "base_uri": "https://localhost:8080/"
        },
        "id": "DsrscC12FwRn",
        "outputId": "4af111a4-c3ad-4603-c31c-9f27abde9e80"
      },
      "execution_count": 10,
      "outputs": [
        {
          "output_type": "stream",
          "name": "stdout",
          "text": [
            "2\n"
          ]
        }
      ]
    },
    {
      "cell_type": "code",
      "source": [
        "#Using Ternary Operator\n",
        "\n",
        "a , b = 2, 5\n",
        "\n",
        "print(a if a < b else b)"
      ],
      "metadata": {
        "colab": {
          "base_uri": "https://localhost:8080/"
        },
        "id": "XWD0T8FrGH4z",
        "outputId": "2a73d8ae-5e45-4de9-ea64-36f8d8c5c73c"
      },
      "execution_count": 11,
      "outputs": [
        {
          "output_type": "stream",
          "name": "stdout",
          "text": [
            "2\n"
          ]
        }
      ]
    },
    {
      "cell_type": "markdown",
      "source": [
        "3. Finding Maximum of two numbers"
      ],
      "metadata": {
        "id": "nCPM0nqqGbec"
      }
    },
    {
      "cell_type": "code",
      "source": [
        "#Using Max\n",
        "\n",
        "print(max(2,4))"
      ],
      "metadata": {
        "colab": {
          "base_uri": "https://localhost:8080/"
        },
        "id": "IsKdFeOvGlp-",
        "outputId": "4f8129f0-80a4-49c3-eff0-a3d3a48f7e59"
      },
      "execution_count": 12,
      "outputs": [
        {
          "output_type": "stream",
          "name": "stdout",
          "text": [
            "4\n"
          ]
        }
      ]
    },
    {
      "cell_type": "code",
      "source": [
        "#Using Conditional Statements\n",
        "\n",
        "a , b = 2,4\n",
        "\n",
        "if a > b:\n",
        "  print(a)\n",
        "else:\n",
        "  print(b)"
      ],
      "metadata": {
        "colab": {
          "base_uri": "https://localhost:8080/"
        },
        "id": "gE3xjfPuGtAz",
        "outputId": "11b8a96e-49b7-41d6-ac8a-d5bed1157a23"
      },
      "execution_count": 13,
      "outputs": [
        {
          "output_type": "stream",
          "name": "stdout",
          "text": [
            "4\n"
          ]
        }
      ]
    },
    {
      "cell_type": "markdown",
      "source": [
        "4. Find Factorial of a Number"
      ],
      "metadata": {
        "id": "C4pkq5h6HKWW"
      }
    },
    {
      "cell_type": "code",
      "source": [
        "number = int(input())\n",
        "count = 1\n",
        "for i in range(1,number+1):\n",
        "  count *= i\n",
        "print(f\"The Factorial of {number} is {count}\")"
      ],
      "metadata": {
        "colab": {
          "base_uri": "https://localhost:8080/"
        },
        "id": "7wNJoGgHHTqt",
        "outputId": "9301f2ba-22ca-40c7-965b-d7bc61d8f999"
      },
      "execution_count": 19,
      "outputs": [
        {
          "output_type": "stream",
          "name": "stdout",
          "text": [
            "3\n",
            "The Factorial of 3 is 6\n"
          ]
        }
      ]
    },
    {
      "cell_type": "code",
      "source": [
        "#Factorial of a number Using a Recursive Number\n",
        "\n",
        "def fact(n):\n",
        "  return 1 if n == 0 or n == 1 else n * fact(n - 1)\n",
        "\n",
        "print(fact(5))"
      ],
      "metadata": {
        "colab": {
          "base_uri": "https://localhost:8080/"
        },
        "id": "wfPx9zSVa8IG",
        "outputId": "0c3ea47a-8040-4d37-a112-1bd0153f4a25"
      },
      "execution_count": 3,
      "outputs": [
        {
          "output_type": "stream",
          "name": "stdout",
          "text": [
            "120\n"
          ]
        }
      ]
    },
    {
      "cell_type": "code",
      "source": [
        "#Using Factorial Function In maths\n",
        "\n",
        "import math\n",
        "\n",
        "print(math.factorial(7))"
      ],
      "metadata": {
        "colab": {
          "base_uri": "https://localhost:8080/"
        },
        "id": "I_6lu2l5bf6s",
        "outputId": "56f4a33d-c04b-4eb3-eb04-c0449c2e43bc"
      },
      "execution_count": 7,
      "outputs": [
        {
          "output_type": "stream",
          "name": "stdout",
          "text": [
            "5040\n"
          ]
        }
      ]
    },
    {
      "cell_type": "markdown",
      "source": [
        "5. Find the GCD (Greatest Common Divisior) of Two Numbers"
      ],
      "metadata": {
        "id": "MfemjdAxcxQs"
      }
    },
    {
      "cell_type": "code",
      "source": [
        "# For Example\n",
        "# a = 60\n",
        "# b = 48\n",
        "# GCD of a and b is 12\n",
        "# That 12 divides both 60 and 48\n",
        "\n",
        "a = 60\n",
        "b = 48\n",
        "\n",
        "while b != 0:\n",
        "  temp = a % b\n",
        "  a = b\n",
        "  b = temp\n",
        "\n",
        "# a, b = b , a % b\n",
        "\n",
        "print(a, b)"
      ],
      "metadata": {
        "colab": {
          "base_uri": "https://localhost:8080/"
        },
        "id": "0OoTHGY3dBVz",
        "outputId": "82f0f4dd-27cd-44f2-9a51-00786548e5dd"
      },
      "execution_count": 18,
      "outputs": [
        {
          "output_type": "stream",
          "name": "stdout",
          "text": [
            "12 0\n"
          ]
        }
      ]
    },
    {
      "cell_type": "code",
      "source": [
        "#Using math.gcd()\n",
        "\n",
        "print(math.gcd(60,48))"
      ],
      "metadata": {
        "colab": {
          "base_uri": "https://localhost:8080/"
        },
        "id": "kdKmACrcfeq-",
        "outputId": "d614da75-98a4-4474-9270-1ecb485ce0d5"
      },
      "execution_count": 19,
      "outputs": [
        {
          "output_type": "stream",
          "name": "stdout",
          "text": [
            "12\n"
          ]
        }
      ]
    },
    {
      "cell_type": "code",
      "source": [
        "#Using Substraction Based GCD\n",
        "\n",
        "a = 60\n",
        "b = 48\n",
        "\n",
        "while a != b:\n",
        "  if a > b:\n",
        "    a -= b\n",
        "  else:\n",
        "    b -= a\n",
        "\n",
        "print(a)"
      ],
      "metadata": {
        "colab": {
          "base_uri": "https://localhost:8080/"
        },
        "id": "KarfeizCfx2f",
        "outputId": "bc328341-5276-4679-9113-d61e4f18c85d"
      },
      "execution_count": 20,
      "outputs": [
        {
          "output_type": "stream",
          "name": "stdout",
          "text": [
            "12\n"
          ]
        }
      ]
    },
    {
      "cell_type": "markdown",
      "source": [
        "6. Simple Interest"
      ],
      "metadata": {
        "id": "7-SQ0jf2hM7t"
      }
    },
    {
      "cell_type": "code",
      "source": [
        "# Simple Interest Formula is (Principal Amount * Time Period * Rate of Interest) / 100\n",
        "# (P * T * R) / 100\n",
        "\n",
        "p , t , r = map(int, input().split())\n",
        "\n",
        "print((p*t*r)/100)"
      ],
      "metadata": {
        "colab": {
          "base_uri": "https://localhost:8080/"
        },
        "id": "Pjuw3k2YhTds",
        "outputId": "1e14fb81-f67c-4b0d-a8b6-4e9a034bdbf9"
      },
      "execution_count": 23,
      "outputs": [
        {
          "output_type": "stream",
          "name": "stdout",
          "text": [
            "5 6 7\n",
            "2.1\n"
          ]
        }
      ]
    },
    {
      "cell_type": "markdown",
      "source": [
        "7. Armstrong Number"
      ],
      "metadata": {
        "id": "ShDQMQ6ki19x"
      }
    },
    {
      "cell_type": "code",
      "source": [
        "n = int(input())\n",
        "m = str(n)\n",
        "count = 0\n",
        "\n",
        "for i in m:\n",
        "  d = int(i)\n",
        "  s = d * d * d\n",
        "  count += s\n",
        "\n",
        "if n == count:\n",
        "  print(\"Armstrong Number\")\n",
        "else:\n",
        "  print(\"Not a Armstrong Number\")\n",
        "\n",
        "print(count)"
      ],
      "metadata": {
        "colab": {
          "base_uri": "https://localhost:8080/"
        },
        "id": "OoIENxgPi59O",
        "outputId": "a34e6111-cee8-49c6-b6dc-264295dd3317"
      },
      "execution_count": 33,
      "outputs": [
        {
          "output_type": "stream",
          "name": "stdout",
          "text": [
            "3\n",
            "Not a Armstrong Number\n",
            "27\n"
          ]
        }
      ]
    },
    {
      "cell_type": "markdown",
      "source": [
        "8. Print all Prime numbers in an Interval"
      ],
      "metadata": {
        "id": "KGyBcgy5gQlc"
      }
    },
    {
      "cell_type": "code",
      "source": [
        "N = int(input())\n",
        "\n",
        "arr = []\n",
        "\n",
        "for n in range(0, N+1):\n",
        "  if n <= 1:\n",
        "    continue\n",
        "\n",
        "  is_prime = True\n",
        "\n",
        "  for i in range(2, int(n ** 0.5) + 1):\n",
        "    if n % i == 0:\n",
        "      is_prime = False\n",
        "      break\n",
        "\n",
        "  if is_prime:\n",
        "    arr.append(n)\n",
        "\n",
        "print(arr)"
      ],
      "metadata": {
        "colab": {
          "base_uri": "https://localhost:8080/"
        },
        "id": "ZapEiXSBgYSw",
        "outputId": "29970ca2-a0f9-4c26-de7a-e5863522ae8d"
      },
      "execution_count": 3,
      "outputs": [
        {
          "output_type": "stream",
          "name": "stdout",
          "text": [
            "8\n",
            "[2, 3, 5, 7]\n"
          ]
        }
      ]
    },
    {
      "cell_type": "code",
      "source": [
        "#For n primes\n",
        "\n",
        "def prime(n):\n",
        "  if n < 2:\n",
        "    return False\n",
        "  for i in range(2, int(n ** 0.5) + 1):\n",
        "    if n % i == 0:\n",
        "      return False\n",
        "  return True\n",
        "\n",
        "\n",
        "def nprime(m):\n",
        "  arr = []\n",
        "  for i in range(2, m + 1):\n",
        "    if prime(i):\n",
        "      arr.append(i)\n",
        "  return arr\n",
        "\n",
        "x = int(input())\n",
        "print(nprime(x))"
      ],
      "metadata": {
        "colab": {
          "base_uri": "https://localhost:8080/"
        },
        "id": "HtGHEmSLq2oZ",
        "outputId": "fc604635-a996-4430-93ef-f20a59daca79"
      },
      "execution_count": 23,
      "outputs": [
        {
          "output_type": "stream",
          "name": "stdout",
          "text": [
            "7\n",
            "[2, 3, 5, 7]\n"
          ]
        }
      ]
    },
    {
      "cell_type": "code",
      "source": [
        "from sympy import primerange\n",
        "\n",
        "x = 7  # range [x, y]\n",
        "\n",
        "primes = list(primerange(2, x + 1))\n",
        "print(primes if primes else \"No\")\n"
      ],
      "metadata": {
        "colab": {
          "base_uri": "https://localhost:8080/"
        },
        "id": "AzRMGpo4Cv8k",
        "outputId": "ead72155-97d7-48b7-8eed-033dda03cf61"
      },
      "execution_count": 31,
      "outputs": [
        {
          "output_type": "stream",
          "name": "stdout",
          "text": [
            "[2, 3, 5, 7]\n"
          ]
        }
      ]
    },
    {
      "cell_type": "code",
      "source": [
        "from sympy import *\n",
        "\n",
        "n = 80\n",
        "arr = []\n",
        "for i in range(2, n):\n",
        "  if isprime(i):\n",
        "    arr.append(i)\n",
        "\n",
        "print(arr)\n",
        "print(sum(arr))"
      ],
      "metadata": {
        "colab": {
          "base_uri": "https://localhost:8080/"
        },
        "id": "krU7HNFkP4Wz",
        "outputId": "84a74c8d-b6c1-4c8a-a0c9-d888a8cfe4a2"
      },
      "execution_count": 36,
      "outputs": [
        {
          "output_type": "stream",
          "name": "stdout",
          "text": [
            "[2, 3, 5, 7, 11, 13, 17, 19, 23, 29, 31, 37, 41, 43, 47, 53, 59, 61, 67, 71, 73, 79]\n",
            "791\n"
          ]
        }
      ]
    },
    {
      "cell_type": "markdown",
      "source": [
        "9. Fibonacci Numbers"
      ],
      "metadata": {
        "id": "nP_Weg5sSr4W"
      }
    },
    {
      "cell_type": "code",
      "source": [
        "def fibnoo(n):\n",
        "  a = 0\n",
        "  b = 1\n",
        "  c = 1\n",
        "  arr = []\n",
        "  if n < 0:\n",
        "    return a\n",
        "  elif n == 0:\n",
        "    return a\n",
        "  elif n == 1:\n",
        "    return b\n",
        "  else:\n",
        "    for i in range(2, n):\n",
        "      c = a + b\n",
        "      a = b\n",
        "      b = c\n",
        "      arr.append(b)\n",
        "    return arr\n",
        "\n",
        "print(fibnoo(10))"
      ],
      "metadata": {
        "colab": {
          "base_uri": "https://localhost:8080/"
        },
        "id": "GyA1h4XIQueg",
        "outputId": "2c327766-a4aa-4e3e-d0ec-8c4adf1c4cbe"
      },
      "execution_count": 37,
      "outputs": [
        {
          "output_type": "stream",
          "name": "stdout",
          "text": [
            "[1, 2, 3, 5, 8, 13, 21, 34]\n"
          ]
        }
      ]
    },
    {
      "cell_type": "code",
      "source": [
        "def fibno(n):\n",
        "  if n <= 0:\n",
        "    return \"Hehe Again\"\n",
        "  data = [0,1]\n",
        "  if n > 2:\n",
        "    for i in range(2, n):\n",
        "      data.append(data[i-1] + data[i-2])\n",
        "    return data[n-1]\n",
        "\n",
        "print(fibno(10))"
      ],
      "metadata": {
        "colab": {
          "base_uri": "https://localhost:8080/"
        },
        "id": "8EivibXvS1IK",
        "outputId": "c8e861df-4103-468b-c219-b2474bf68943"
      },
      "execution_count": 42,
      "outputs": [
        {
          "output_type": "stream",
          "name": "stdout",
          "text": [
            "34\n"
          ]
        }
      ]
    },
    {
      "cell_type": "code",
      "source": [
        "import math\n",
        "\n",
        "def sq(n):\n",
        "  s = int(math.sqrt(n))\n",
        "  return s*s == n\n",
        "\n",
        "def findfibo(m):\n",
        "\n",
        "  return sq(5*m*m+4) or sq(5*m*m-4)\n",
        "\n",
        "a = int(input())\n",
        "\n",
        "if findfibo(a):\n",
        "  print(\"YEah\")\n",
        "else:\n",
        "  print(\"No\")"
      ],
      "metadata": {
        "colab": {
          "base_uri": "https://localhost:8080/"
        },
        "id": "arhHzVEnTJTL",
        "outputId": "d56d1e92-a533-49d4-dde4-64633b3c73c9"
      },
      "execution_count": 54,
      "outputs": [
        {
          "output_type": "stream",
          "name": "stdout",
          "text": [
            "22\n",
            "No\n"
          ]
        }
      ]
    },
    {
      "cell_type": "markdown",
      "source": [
        "10. ASCII Value of a character"
      ],
      "metadata": {
        "id": "dzd561smbT1V"
      }
    },
    {
      "cell_type": "code",
      "source": [
        "print(ord('c'))"
      ],
      "metadata": {
        "colab": {
          "base_uri": "https://localhost:8080/"
        },
        "id": "5qPGUg0abaf4",
        "outputId": "a69a31e8-bf1f-4814-f2fc-824c1cb3b9bf"
      },
      "execution_count": 56,
      "outputs": [
        {
          "output_type": "stream",
          "name": "stdout",
          "text": [
            "99\n"
          ]
        }
      ]
    },
    {
      "cell_type": "markdown",
      "source": [
        "11. Sum of Squrares"
      ],
      "metadata": {
        "id": "M8fJP4vLbm6-"
      }
    },
    {
      "cell_type": "code",
      "source": [
        "n = int(input())\n",
        "sum = 0\n",
        "for i in range(1, n+1):\n",
        "  sum = sum + (i * i)\n",
        "print(sum)"
      ],
      "metadata": {
        "colab": {
          "base_uri": "https://localhost:8080/"
        },
        "id": "OPQowrlgbsDA",
        "outputId": "a890a1b9-fac7-4919-a57a-c28034e123a2"
      },
      "execution_count": 70,
      "outputs": [
        {
          "output_type": "stream",
          "name": "stdout",
          "text": [
            "100\n",
            "338350\n"
          ]
        }
      ]
    },
    {
      "cell_type": "code",
      "source": [
        "n = 100\n",
        "print(int(n*(n+1)/2*(2*n+1)/3))"
      ],
      "metadata": {
        "colab": {
          "base_uri": "https://localhost:8080/"
        },
        "id": "kTZVcVWOdIyk",
        "outputId": "5b1ee4c2-5c0f-4952-eada-f7f60ed6af92"
      },
      "execution_count": 69,
      "outputs": [
        {
          "output_type": "stream",
          "name": "stdout",
          "text": [
            "338350\n"
          ]
        }
      ]
    },
    {
      "cell_type": "markdown",
      "source": [
        "12. Sum of Cubes"
      ],
      "metadata": {
        "id": "ZGq5R1aidxcY"
      }
    },
    {
      "cell_type": "code",
      "source": [
        "n = int(input())\n",
        "s=0\n",
        "for i in range(1, n+1):\n",
        "  s += (i**3)\n",
        "print(s)"
      ],
      "metadata": {
        "colab": {
          "base_uri": "https://localhost:8080/"
        },
        "id": "vP9mlHxJd1Ct",
        "outputId": "56c85ee7-bb13-449b-a925-bad2c14929eb"
      },
      "execution_count": 75,
      "outputs": [
        {
          "output_type": "stream",
          "name": "stdout",
          "text": [
            "5\n",
            "225\n"
          ]
        }
      ]
    },
    {
      "cell_type": "markdown",
      "source": [
        "13. Sum of Array"
      ],
      "metadata": {
        "id": "LB8f7nU6eoK1"
      }
    },
    {
      "cell_type": "code",
      "source": [
        "import math\n",
        "arr =[1,2,3]\n",
        "s = math.fsum(arr)\n",
        "print(int(s))"
      ],
      "metadata": {
        "colab": {
          "base_uri": "https://localhost:8080/"
        },
        "id": "nJjsb0OreTt-",
        "outputId": "4c686b44-c4b5-493a-af8a-b7a40a3b2640"
      },
      "execution_count": 86,
      "outputs": [
        {
          "output_type": "stream",
          "name": "stdout",
          "text": [
            "6\n"
          ]
        }
      ]
    },
    {
      "cell_type": "code",
      "source": [
        "arr = [1,2,3]\n",
        "s = 0\n",
        "for i in range(len(arr)):\n",
        "  s += i\n",
        "print(s)"
      ],
      "metadata": {
        "colab": {
          "base_uri": "https://localhost:8080/"
        },
        "id": "og1OWUeCmYao",
        "outputId": "bf85ee2a-5917-4157-a9d0-56d42101991b"
      },
      "execution_count": 87,
      "outputs": [
        {
          "output_type": "stream",
          "name": "stdout",
          "text": [
            "3\n"
          ]
        }
      ]
    },
    {
      "cell_type": "markdown",
      "source": [
        "14. Largest Element in Array"
      ],
      "metadata": {
        "id": "xrz5cUIAm0Ed"
      }
    },
    {
      "cell_type": "code",
      "source": [
        "#Using Sort()\n",
        "arr = [1,57,2,3,7,5]\n",
        "\n",
        "arr.sort()\n",
        "\n",
        "print(arr[-1])"
      ],
      "metadata": {
        "colab": {
          "base_uri": "https://localhost:8080/"
        },
        "id": "tS50_OBvm4Py",
        "outputId": "e46ce81d-fd0d-4fc1-c362-33fe3cab3e7d"
      },
      "execution_count": 93,
      "outputs": [
        {
          "output_type": "stream",
          "name": "stdout",
          "text": [
            "57\n"
          ]
        }
      ]
    },
    {
      "cell_type": "code",
      "source": [
        "#Using Max()\n",
        "arr = [1,57,2,3,7,5]\n",
        "print(max(arr))"
      ],
      "metadata": {
        "colab": {
          "base_uri": "https://localhost:8080/"
        },
        "id": "e0zZTBjdniBr",
        "outputId": "087c913d-79d1-4dab-8951-1956570cf575"
      },
      "execution_count": 97,
      "outputs": [
        {
          "output_type": "stream",
          "name": "stdout",
          "text": [
            "57\n"
          ]
        }
      ]
    },
    {
      "cell_type": "code",
      "source": [
        "arr = [1,57,2,3,7,5]\n",
        "max = arr[0]\n",
        "for i in range(len(arr)):\n",
        "  if arr[i] > max:\n",
        "    max = arr[i]\n",
        "print(max)"
      ],
      "metadata": {
        "colab": {
          "base_uri": "https://localhost:8080/"
        },
        "id": "xYTBauolp6Fv",
        "outputId": "5ffa5aca-731e-491c-f98a-b2162421d727"
      },
      "execution_count": 98,
      "outputs": [
        {
          "output_type": "stream",
          "name": "stdout",
          "text": [
            "57\n"
          ]
        }
      ]
    },
    {
      "cell_type": "markdown",
      "source": [
        "15. Array Rotation"
      ],
      "metadata": {
        "id": "8Dn8Ds3jrKqP"
      }
    },
    {
      "cell_type": "code",
      "source": [
        "arr = [1,57,2,3,7,5]\n",
        "print(arr[::-1])"
      ],
      "metadata": {
        "colab": {
          "base_uri": "https://localhost:8080/"
        },
        "id": "tRUTuRUirPa6",
        "outputId": "98392c23-4573-4ae2-daa2-0e7b1df3a6c1"
      },
      "execution_count": 99,
      "outputs": [
        {
          "output_type": "stream",
          "name": "stdout",
          "text": [
            "[5, 7, 3, 2, 57, 1]\n"
          ]
        }
      ]
    },
    {
      "cell_type": "code",
      "source": [
        "arr = [1,57,2,3,7,5]\n",
        "n = 2\n",
        "print(arr[n:]+arr[:n])"
      ],
      "metadata": {
        "colab": {
          "base_uri": "https://localhost:8080/"
        },
        "id": "qXVqhND4dIcX",
        "outputId": "ae1dad80-17a2-4ec2-978b-aabb1409863a"
      },
      "execution_count": 5,
      "outputs": [
        {
          "output_type": "stream",
          "name": "stdout",
          "text": [
            "[2, 3, 7, 5, 1, 57]\n"
          ]
        }
      ]
    },
    {
      "cell_type": "markdown",
      "source": [
        "16. Find remainder of array multiplication divided by n"
      ],
      "metadata": {
        "id": "kvjdnlU_eh0D"
      }
    },
    {
      "cell_type": "code",
      "source": [
        "arr = [100,10,5,25,35,14]\n",
        "n = int(input())\n",
        "c = 1\n",
        "for i in arr:\n",
        "  c *= i\n",
        "print(c%n)"
      ],
      "metadata": {
        "colab": {
          "base_uri": "https://localhost:8080/"
        },
        "id": "U5WvHlTgejVI",
        "outputId": "092198ba-2e08-4a09-e5da-9fdc0619b254"
      },
      "execution_count": 13,
      "outputs": [
        {
          "output_type": "stream",
          "name": "stdout",
          "text": [
            "56\n",
            "0\n"
          ]
        }
      ]
    },
    {
      "cell_type": "markdown",
      "source": [
        "17. Program to check if given array is Monotonic"
      ],
      "metadata": {
        "id": "vNBy7eBafyDS"
      }
    },
    {
      "cell_type": "code",
      "source": [
        "def is_monotonic(arr):\n",
        "    increasing = decreasing = True\n",
        "\n",
        "    for i in range(1, len(arr)):\n",
        "        if arr[i] > arr[i - 1]:\n",
        "            decreasing = False\n",
        "        if arr[i] < arr[i - 1]:\n",
        "            increasing = False\n",
        "\n",
        "    return increasing or decreasing\n",
        "\n",
        "arr = [1, 2, 3, 4, 5]\n",
        "\n",
        "if is_monotonic(arr):\n",
        "    print(\"Yeah, it's a Monotonic array\")\n",
        "else:\n",
        "    print(\"Not a Monotonic array\")"
      ],
      "metadata": {
        "colab": {
          "base_uri": "https://localhost:8080/"
        },
        "id": "siqmn9ztjKlq",
        "outputId": "9b557163-8e9c-4e8a-dc0a-006d30519664"
      },
      "execution_count": 41,
      "outputs": [
        {
          "output_type": "stream",
          "name": "stdout",
          "text": [
            "Yeah, it's a Monotonic array\n"
          ]
        }
      ]
    },
    {
      "cell_type": "markdown",
      "source": [
        "18. interchange first and last elements in a list"
      ],
      "metadata": {
        "id": "JbqytZk3rax9"
      }
    },
    {
      "cell_type": "code",
      "source": [
        "arr = [1, 2, 3, 4, 5]\n",
        "arr[0] , arr[-1] = arr[-1] , arr[0]\n",
        "print(arr)"
      ],
      "metadata": {
        "colab": {
          "base_uri": "https://localhost:8080/"
        },
        "id": "ocP-81e-pj5U",
        "outputId": "5de47df6-bc2e-446b-faf6-21f241a62756"
      },
      "execution_count": 44,
      "outputs": [
        {
          "output_type": "stream",
          "name": "stdout",
          "text": [
            "[5, 2, 3, 4, 1]\n"
          ]
        }
      ]
    },
    {
      "cell_type": "code",
      "source": [
        "arr = [1, 2, 3, 4, 5]\n",
        "print([arr[-1]] + arr[1:-1] + [arr[0]])"
      ],
      "metadata": {
        "colab": {
          "base_uri": "https://localhost:8080/"
        },
        "id": "Cc7Fzq_lsPR_",
        "outputId": "015a4fe9-9381-4c2d-b4a7-d090e98cf328"
      },
      "execution_count": 47,
      "outputs": [
        {
          "output_type": "stream",
          "name": "stdout",
          "text": [
            "[5, 2, 3, 4, 1]\n"
          ]
        }
      ]
    }
  ]
}