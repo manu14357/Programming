{
  "nbformat": 4,
  "nbformat_minor": 0,
  "metadata": {
    "colab": {
      "provenance": [],
      "authorship_tag": "ABX9TyNHecWyJ1EDe9aJr58iJd/S",
      "include_colab_link": true
    },
    "kernelspec": {
      "name": "python3",
      "display_name": "Python 3"
    },
    "language_info": {
      "name": "python"
    }
  },
  "cells": [
    {
      "cell_type": "markdown",
      "metadata": {
        "id": "view-in-github",
        "colab_type": "text"
      },
      "source": [
        "<a href=\"https://colab.research.google.com/github/manu14357/Programming/blob/main/Python_Programming_from_Zero.ipynb\" target=\"_parent\"><img src=\"https://colab.research.google.com/assets/colab-badge.svg\" alt=\"Open In Colab\"/></a>"
      ]
    },
    {
      "cell_type": "markdown",
      "source": [
        "Python Programming"
      ],
      "metadata": {
        "id": "uSjke7CyCvLf"
      }
    },
    {
      "cell_type": "markdown",
      "source": [
        "1. How to Add Two Numbers in Python"
      ],
      "metadata": {
        "id": "UTkpYzvfC1Xk"
      }
    },
    {
      "cell_type": "code",
      "execution_count": 1,
      "metadata": {
        "colab": {
          "base_uri": "https://localhost:8080/"
        },
        "id": "UuqbYirCCukj",
        "outputId": "a646b637-bb22-4e42-c0b1-970d1899f225"
      },
      "outputs": [
        {
          "output_type": "stream",
          "name": "stdout",
          "text": [
            "3\n"
          ]
        }
      ],
      "source": [
        "#Using Operator \"+\"\n",
        "\n",
        "a = 1\n",
        "b = 2\n",
        "print(a+b)"
      ]
    },
    {
      "cell_type": "code",
      "source": [
        "#Using User Input\n",
        "\n",
        "a = int(input(\"Enter Number:\"))\n",
        "b = int(input(\"Enter Number:\"))\n",
        "print(a+b)"
      ],
      "metadata": {
        "colab": {
          "base_uri": "https://localhost:8080/"
        },
        "id": "VosBCoEKDM-U",
        "outputId": "2d31f3f6-5b92-4d13-bd66-d2066195ecad"
      },
      "execution_count": 2,
      "outputs": [
        {
          "output_type": "stream",
          "name": "stdout",
          "text": [
            "Enter Number:1\n",
            "Enter Number:2\n",
            "3\n"
          ]
        }
      ]
    },
    {
      "cell_type": "code",
      "source": [
        "#Using Function\n",
        "\n",
        "def sum(a,b):\n",
        "  return a+b\n",
        "\n",
        "print(sum(1,2))"
      ],
      "metadata": {
        "colab": {
          "base_uri": "https://localhost:8080/"
        },
        "id": "tkt74jvYDro5",
        "outputId": "96ef00a8-20b4-42ba-cae6-493a8d2491fc"
      },
      "execution_count": 4,
      "outputs": [
        {
          "output_type": "stream",
          "name": "stdout",
          "text": [
            "3\n"
          ]
        }
      ]
    },
    {
      "cell_type": "code",
      "source": [
        "#Using Lambda Function\n",
        "\n",
        "sum = lambda a, b : a + b\n",
        "print(sum(1,2))"
      ],
      "metadata": {
        "colab": {
          "base_uri": "https://localhost:8080/"
        },
        "id": "SGb2nYPrEO3O",
        "outputId": "6a8cdc17-c269-4d42-979b-d8596b11ac31"
      },
      "execution_count": 5,
      "outputs": [
        {
          "output_type": "stream",
          "name": "stdout",
          "text": [
            "3\n"
          ]
        }
      ]
    },
    {
      "cell_type": "code",
      "source": [
        "#Using Operator .add\n",
        "\n",
        "import operator\n",
        "\n",
        "print(operator.add(1,3))"
      ],
      "metadata": {
        "colab": {
          "base_uri": "https://localhost:8080/"
        },
        "id": "PqQR-MRAEhug",
        "outputId": "68d8e1bb-6329-4c28-c38b-40e171f98d8a"
      },
      "execution_count": 6,
      "outputs": [
        {
          "output_type": "stream",
          "name": "stdout",
          "text": [
            "4\n"
          ]
        }
      ]
    },
    {
      "cell_type": "code",
      "source": [
        "#Using sum()\n",
        "\n",
        "print(sum(1,2))"
      ],
      "metadata": {
        "colab": {
          "base_uri": "https://localhost:8080/"
        },
        "id": "y4NTOVegEzSR",
        "outputId": "6349cf35-0a45-4c95-e9f6-5525e3362522"
      },
      "execution_count": 7,
      "outputs": [
        {
          "output_type": "stream",
          "name": "stdout",
          "text": [
            "3\n"
          ]
        }
      ]
    },
    {
      "cell_type": "code",
      "source": [
        "#Using Bitwise Operator\n",
        "\n",
        "a = 1\n",
        "b = 2\n",
        "print(a|b)"
      ],
      "metadata": {
        "colab": {
          "base_uri": "https://localhost:8080/"
        },
        "id": "vBl7jZHRFFZq",
        "outputId": "42038e81-9be8-4f2d-fa37-59ec8d835f75"
      },
      "execution_count": 8,
      "outputs": [
        {
          "output_type": "stream",
          "name": "stdout",
          "text": [
            "3\n"
          ]
        }
      ]
    },
    {
      "cell_type": "markdown",
      "source": [
        "2. Finding Minimun Of Two Numbers"
      ],
      "metadata": {
        "id": "lxIUZLqtFdtX"
      }
    },
    {
      "cell_type": "code",
      "source": [
        "#Using Min\n",
        "\n",
        "print(min(3, 6))"
      ],
      "metadata": {
        "colab": {
          "base_uri": "https://localhost:8080/"
        },
        "id": "ef-sFQ4LFhhw",
        "outputId": "cc713603-87fb-4bcd-d97b-a2fd16d297db"
      },
      "execution_count": 9,
      "outputs": [
        {
          "output_type": "stream",
          "name": "stdout",
          "text": [
            "3\n"
          ]
        }
      ]
    },
    {
      "cell_type": "code",
      "source": [
        "#Using Conditional Statements\n",
        "\n",
        "a, b =2,5\n",
        "\n",
        "if a < b:\n",
        "  print(a)\n",
        "else:\n",
        "  print(b)"
      ],
      "metadata": {
        "colab": {
          "base_uri": "https://localhost:8080/"
        },
        "id": "DsrscC12FwRn",
        "outputId": "4af111a4-c3ad-4603-c31c-9f27abde9e80"
      },
      "execution_count": 10,
      "outputs": [
        {
          "output_type": "stream",
          "name": "stdout",
          "text": [
            "2\n"
          ]
        }
      ]
    },
    {
      "cell_type": "code",
      "source": [
        "#Using Ternary Operator\n",
        "\n",
        "a , b = 2, 5\n",
        "\n",
        "print(a if a < b else b)"
      ],
      "metadata": {
        "colab": {
          "base_uri": "https://localhost:8080/"
        },
        "id": "XWD0T8FrGH4z",
        "outputId": "2a73d8ae-5e45-4de9-ea64-36f8d8c5c73c"
      },
      "execution_count": 11,
      "outputs": [
        {
          "output_type": "stream",
          "name": "stdout",
          "text": [
            "2\n"
          ]
        }
      ]
    },
    {
      "cell_type": "markdown",
      "source": [
        "3. Finding Maximum of two numbers"
      ],
      "metadata": {
        "id": "nCPM0nqqGbec"
      }
    },
    {
      "cell_type": "code",
      "source": [
        "#Using Max\n",
        "\n",
        "print(max(2,4))"
      ],
      "metadata": {
        "colab": {
          "base_uri": "https://localhost:8080/"
        },
        "id": "IsKdFeOvGlp-",
        "outputId": "4f8129f0-80a4-49c3-eff0-a3d3a48f7e59"
      },
      "execution_count": 12,
      "outputs": [
        {
          "output_type": "stream",
          "name": "stdout",
          "text": [
            "4\n"
          ]
        }
      ]
    },
    {
      "cell_type": "code",
      "source": [
        "#Using Conditional Statements\n",
        "\n",
        "a , b = 2,4\n",
        "\n",
        "if a > b:\n",
        "  print(a)\n",
        "else:\n",
        "  print(b)"
      ],
      "metadata": {
        "colab": {
          "base_uri": "https://localhost:8080/"
        },
        "id": "gE3xjfPuGtAz",
        "outputId": "11b8a96e-49b7-41d6-ac8a-d5bed1157a23"
      },
      "execution_count": 13,
      "outputs": [
        {
          "output_type": "stream",
          "name": "stdout",
          "text": [
            "4\n"
          ]
        }
      ]
    },
    {
      "cell_type": "markdown",
      "source": [
        "4. Find Factorial of a Number"
      ],
      "metadata": {
        "id": "C4pkq5h6HKWW"
      }
    },
    {
      "cell_type": "code",
      "source": [
        "number = int(input())\n",
        "count = 1\n",
        "for i in range(1,number+1):\n",
        "  count *= i\n",
        "print(f\"The Factorial of {number} is {count}\")"
      ],
      "metadata": {
        "colab": {
          "base_uri": "https://localhost:8080/"
        },
        "id": "7wNJoGgHHTqt",
        "outputId": "9301f2ba-22ca-40c7-965b-d7bc61d8f999"
      },
      "execution_count": 19,
      "outputs": [
        {
          "output_type": "stream",
          "name": "stdout",
          "text": [
            "3\n",
            "The Factorial of 3 is 6\n"
          ]
        }
      ]
    },
    {
      "cell_type": "code",
      "source": [
        "#Factorial of a number Using a Recursive Number\n",
        "\n",
        "def fact(n):\n",
        "  return 1 if n == 0 or n == 1 else n * fact(n - 1)\n",
        "\n",
        "print(fact(5))"
      ],
      "metadata": {
        "colab": {
          "base_uri": "https://localhost:8080/"
        },
        "id": "wfPx9zSVa8IG",
        "outputId": "0c3ea47a-8040-4d37-a112-1bd0153f4a25"
      },
      "execution_count": 3,
      "outputs": [
        {
          "output_type": "stream",
          "name": "stdout",
          "text": [
            "120\n"
          ]
        }
      ]
    },
    {
      "cell_type": "code",
      "source": [
        "#Using Factorial Function In maths\n",
        "\n",
        "import math\n",
        "\n",
        "print(math.factorial(7))"
      ],
      "metadata": {
        "colab": {
          "base_uri": "https://localhost:8080/"
        },
        "id": "I_6lu2l5bf6s",
        "outputId": "56f4a33d-c04b-4eb3-eb04-c0449c2e43bc"
      },
      "execution_count": 7,
      "outputs": [
        {
          "output_type": "stream",
          "name": "stdout",
          "text": [
            "5040\n"
          ]
        }
      ]
    },
    {
      "cell_type": "markdown",
      "source": [
        "5. Find the GCD (Greatest Common Divisior) of Two Numbers"
      ],
      "metadata": {
        "id": "MfemjdAxcxQs"
      }
    },
    {
      "cell_type": "code",
      "source": [
        "# For Example\n",
        "# a = 60\n",
        "# b = 48\n",
        "# GCD of a and b is 12\n",
        "# That 12 divides both 60 and 48\n",
        "\n",
        "a = 60\n",
        "b = 48\n",
        "\n",
        "while b != 0:\n",
        "  temp = a % b\n",
        "  a = b\n",
        "  b = temp\n",
        "\n",
        "# a, b = b , a % b\n",
        "\n",
        "print(a, b)"
      ],
      "metadata": {
        "colab": {
          "base_uri": "https://localhost:8080/"
        },
        "id": "0OoTHGY3dBVz",
        "outputId": "82f0f4dd-27cd-44f2-9a51-00786548e5dd"
      },
      "execution_count": 18,
      "outputs": [
        {
          "output_type": "stream",
          "name": "stdout",
          "text": [
            "12 0\n"
          ]
        }
      ]
    },
    {
      "cell_type": "code",
      "source": [
        "#Using math.gcd()\n",
        "\n",
        "print(math.gcd(60,48))"
      ],
      "metadata": {
        "colab": {
          "base_uri": "https://localhost:8080/"
        },
        "id": "kdKmACrcfeq-",
        "outputId": "d614da75-98a4-4474-9270-1ecb485ce0d5"
      },
      "execution_count": 19,
      "outputs": [
        {
          "output_type": "stream",
          "name": "stdout",
          "text": [
            "12\n"
          ]
        }
      ]
    },
    {
      "cell_type": "code",
      "source": [
        "#Using Substraction Based GCD\n",
        "\n",
        "a = 60\n",
        "b = 48\n",
        "\n",
        "while a != b:\n",
        "  if a > b:\n",
        "    a -= b\n",
        "  else:\n",
        "    b -= a\n",
        "\n",
        "print(a)"
      ],
      "metadata": {
        "colab": {
          "base_uri": "https://localhost:8080/"
        },
        "id": "KarfeizCfx2f",
        "outputId": "bc328341-5276-4679-9113-d61e4f18c85d"
      },
      "execution_count": 20,
      "outputs": [
        {
          "output_type": "stream",
          "name": "stdout",
          "text": [
            "12\n"
          ]
        }
      ]
    },
    {
      "cell_type": "markdown",
      "source": [
        "6. Simple Interest"
      ],
      "metadata": {
        "id": "7-SQ0jf2hM7t"
      }
    },
    {
      "cell_type": "code",
      "source": [
        "# Simple Interest Formula is (Principal Amount * Time Period * Rate of Interest) / 100\n",
        "# (P * T * R) / 100\n",
        "\n",
        "p , t , r = map(int, input().split())\n",
        "\n",
        "print((p*t*r)/100)"
      ],
      "metadata": {
        "colab": {
          "base_uri": "https://localhost:8080/"
        },
        "id": "Pjuw3k2YhTds",
        "outputId": "1e14fb81-f67c-4b0d-a8b6-4e9a034bdbf9"
      },
      "execution_count": 23,
      "outputs": [
        {
          "output_type": "stream",
          "name": "stdout",
          "text": [
            "5 6 7\n",
            "2.1\n"
          ]
        }
      ]
    },
    {
      "cell_type": "markdown",
      "source": [
        "7. Armstrong Number"
      ],
      "metadata": {
        "id": "ShDQMQ6ki19x"
      }
    },
    {
      "cell_type": "code",
      "source": [
        "n = int(input())\n",
        "m = str(n)\n",
        "count = 0\n",
        "\n",
        "for i in m:\n",
        "  d = int(i)\n",
        "  s = d * d * d\n",
        "  count += s\n",
        "\n",
        "if n == count:\n",
        "  print(\"Armstrong Number\")\n",
        "else:\n",
        "  print(\"Not a Armstrong Number\")\n",
        "\n",
        "print(count)"
      ],
      "metadata": {
        "colab": {
          "base_uri": "https://localhost:8080/"
        },
        "id": "OoIENxgPi59O",
        "outputId": "a34e6111-cee8-49c6-b6dc-264295dd3317"
      },
      "execution_count": 33,
      "outputs": [
        {
          "output_type": "stream",
          "name": "stdout",
          "text": [
            "3\n",
            "Not a Armstrong Number\n",
            "27\n"
          ]
        }
      ]
    }
  ]
}